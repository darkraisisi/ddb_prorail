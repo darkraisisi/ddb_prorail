{
 "cells": [
  {
   "cell_type": "markdown",
   "metadata": {},
   "source": [
    "__We gaan de applicatie opstellen aan de hand van de behoeftes van de belangrijkste stakeholders (zie task 10). Het idee van de applicatie is om een soort Dashboard te creeëren waar meerdere stakeholders gebruik van kunnen maken en kunnen communiceren met elkaar.__\n",
    "\n",
    "Een aantal requirements waar de applicatie aan moet voldoen: \n",
    "\n",
    "\n",
    "- De applicatie geeft een notificatie wanneer er een probleem bij het spoor is gemeld.\n",
    "\n",
    "- Wanneer een probleem gemeld is toont de applicatie de geocode, prioriteit, het soort ongeval en door wie de melding gedaan is. \n",
    "\n",
    "- Op basis van het voorspellend model toont de applicatie welke stappen er moeten doorlopen voor dit specifieke probleem. \n",
    "\n",
    "- De applicatie toont updates over de situatie van een bepaalde melding. \n",
    "\n",
    "- Op basis van het voorspellend model wordt er een inschatting gegeven over de reparatie duur van een bepaald probleem.\n",
    "\n",
    "- De applicatie slaat alle voorafgaand gemelde problemen op in de database. \n",
    "\n",
    "- De applicatie toont wanneer een gemeld probleem opgelost is. \n",
    "\n",
    "- Gemelde problemen en de bijbehorende gegevens kun je via de applicatie opvragen. \n",
    "\n",
    "- De applicatie toont mogelijkheden om in contact te komen met de partijen die bezig zijn met het oplossen van de melding. \n",
    "\n",
    "- De applicatie moet gemakkelijk in gebruik zijn.\n",
    "\n",
    "- De applicatie is overzichtelijk ingericht. \n"
   ]
  }
 ],
 "metadata": {
  "kernelspec": {
   "display_name": "Python 3",
   "language": "python",
   "name": "python3"
  },
  "language_info": {
   "codemirror_mode": {
    "name": "ipython",
    "version": 3
   },
   "file_extension": ".py",
   "mimetype": "text/x-python",
   "name": "python",
   "nbconvert_exporter": "python",
   "pygments_lexer": "ipython3",
   "version": "3.7.4"
  }
 },
 "nbformat": 4,
 "nbformat_minor": 4
}
