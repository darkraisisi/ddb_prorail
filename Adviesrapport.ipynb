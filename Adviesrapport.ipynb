{
 "cells": [
  {
   "cell_type": "markdown",
   "metadata": {},
   "source": [
    "# Adviesrapport ProRail \n"
   ]
  },
  {
   "cell_type": "markdown",
   "metadata": {},
   "source": [
    "In dit adviesrapport beschrijven we beknopt welke acties we hebben ondernomen en waarom onze oplossing volgens ons de juiste is. "
   ]
  },
  {
   "cell_type": "markdown",
   "metadata": {},
   "source": [
    "## Context\n"
   ]
  },
  {
   "cell_type": "markdown",
   "metadata": {},
   "source": [
    "Binnen dit onderwerp van het adviesrapport lichten we kort toe hoe de huidige situatie eruit ziet en wat de gewenste situatie is die we met onze oplossing willen bereiken. "
   ]
  },
  {
   "cell_type": "markdown",
   "metadata": {},
   "source": [
    "#### Huidige situatie\n",
    "Momenteel verloopt het proces alsvolgt: \n",
    "Er wordt eerst een melding gedaan van een probleem op of bij het spoor, deze melding komt aan in de meldkamer. Vervolgens licht de meldkamer de regionale treindienstleiders in. Er wordt een aannemer gebeld en de aannemer begeeft zich naar de locatie van het probleem. Als de aannemer aangekomen is op locatie stelt hij een prognose van het probleem en maakt hierbij een schatting over de reperatieduur van het probleem. De schatting wordt gedaan aan de hand van een statische beslisboom en de intuïtie van de aannemer. De incidentenbestrijding wordt ingelicht zowel als de treinplanners van de NS. Hierna wordt de reizigersinformatie gepubliceerd. \n",
    "\n",
    "\n",
    "#### Gewenste situatie\n",
    "Door het gebruiken van ons model hoeven we niet meer te kijken naar de schatting die de monteur gedaan heeft, maar gaan we op basis van eerdere data voorspelling hoe lang het duurt voordat de dienstregeling opgepakt kan worden. Op basis van deze eerder verzamelde datum kunnen we het huidige ongeval vergelijken met een soortgelijk eerder ongeval en zo inschatten hoe lang de storing gaat duren. \n",
    "\n",
    "#### Knel- en verbeterpunten \n",
    "Er wordt nu nog vaak een verkeerde inschatting gemaakt door de monteurs; zij zijn vaak te pessimistisch waardoor de treinplanners van de NS nog bezig zijn met benodigde voorbereidingen terwijl de storing al opgelost is. Hierdoor ligt de dienstregeling vaak onnodig stil. Dit willen we oplossen met ons voorspellende model en onze applicatie. Ook willen we communicatie tussen de verschillende partijen verbeteren met onze applicatie: de applicatie gaat een dashboard tonen met alle relevante informatie, hierdoor hoeft er niet meer stap voor stap gecommuniceerd te worden tussen de stakeholders. "
   ]
  },
  {
   "cell_type": "markdown",
   "metadata": {},
   "source": [
    "## Data Understanding\n"
   ]
  },
  {
   "cell_type": "markdown",
   "metadata": {},
   "source": [
    "We willen dus gaan voorspellen uit de data die we gekregen hebben van ProRail. De gekregen dataset oogt op eerste gezicht wat rommelig, de dataset bestaat uit 140 kolommen. We willen de dataset wat gaan ontleden om er zo achter te komen welke kolommen en waardes wel- of juist niet bruikbaar zijn voor dit project. In de volgende stap van CRIPSDM, data preparation gaan we daadwerkelijk de niet bruikbare data uit de dataset verwijderen.\n",
    "\n",
    "\n",
    "Om de voorspellingen te kunnen doen gaan we onderscheid maken tussen feature variabelen (dit zijn variabelen waaruit we de voorspelling willen gaan doen), en de target variabele (de variabele die we willen gaan voorspellen). De target variabele spreekt redelijk voor zich; we willen gaan voorspellen hoe lang een probleem duurt en zo willen we een inschatting maken van op welk tijdstip de storing verholpen is. De target variabele is dus eindtijd storing. De feature variabelen waar we naar gaan kijken zijn prioriteit, oorzaakcode en oorzaakgroep. De prioriteit zegt iets over hoe urgent een probleem is, dit kan handig omdat de prioriteit van een probleem iets kan zeggen over de reparatieduur. Verder zeggen oorzaakcode en oorzaakgroep iets over het soort ongeval, als we dus weten wat voor soort oorzaak het huidige probleem heeft en we deze vergelijken met eerdere problemen met dezelfde oorzaak kunnen we op basis hiervan ook een inschatting maken van de duur van het probleem. \n",
    "\n",
    "__Voor gedetailleerde stappen van de data exploration zie: Sprint 1. Task 7 Data Exploration__"
   ]
  },
  {
   "cell_type": "markdown",
   "metadata": {},
   "source": [
    "## Data Preparation"
   ]
  },
  {
   "cell_type": "markdown",
   "metadata": {},
   "source": [
    "Bij deze stappen gaan we onderscheid maken tussen welke kolommen we wel en niet nodig hebben voor het model. Zo zijn er een groot aantal kolommen die volledig leeg zijn of grotendeels bestaan uit lege waardes. Om een goede voorspelling te kunnen doen hebben we veel data nodig, een groot deel van de kolommen met weinig waardes zullen we dus verwijderen. Ook zijn er een aantal kolommen die dezelfde betekenis hebben, in dit geval verwijderen we de kolom met de meeste lege waardes zodat we zo veel mogelijk data overhouden zonder onnodige kolommen. Ook zijn er een aantal kolommen die ergens overlappen zoals bijvoorbeeld meldtijd en melddatum, in de melddatum kolom wordt ook de meldtijd zelf al opgenomen. Bij overlappende kolommen zullen we deze samenvoegen zodat alle informatie samen in één kolom wordt opgeslagen.  "
   ]
  },
  {
   "cell_type": "markdown",
   "metadata": {},
   "source": [
    "__Voor gedetailleerde stappen van de data preparation zie: Sprint 1. Task 8 Data Preparation__"
   ]
  },
  {
   "cell_type": "markdown",
   "metadata": {},
   "source": [
    "## Modelling\n"
   ]
  },
  {
   "cell_type": "markdown",
   "metadata": {},
   "source": [
    "In dit gedeelte van het adviesrapport willen wij u meenemen in de stappen die wij gezet hebben om te kunnen onderzoeken welk model het beste past bij de probleemstelling. \n",
    "\n",
    "Omdat wij een nummerieke variabele willen gaan voorspellen hebben wij verschillende regressie modellen uitgeprobeerd. Hieronder tonen wij een korte samenvattingen inclusief de conclusie die we getrokken hebben. \n",
    "\n",
    "De r2 score toont in hoeverre de data overeenkomt met de regressie lijn. 0% \n",
    "\n",
    "\n",
    "### Lineaire modellen\n",
    "\n",
    "                                      Lineaire regressie\n",
    "\n",
    "Score: -3.314572800337496e+17\n",
    "\n",
    "RMSE: 38434764643.34192\n",
    "\n",
    "Toelichting: De score van het lineaire regressie model is veruit het slechts. Dit wilt zeggen dat de data niet de trend van het model volgt. Ook is de RMSE erg hoog, deze wil het zo laag mogelijk houden aangezien het een error aangeeft. Lineaire regressie is dus zeker niet geschikt voor de probleemstelling. \n",
    "\n",
    "                                      KNearest neighbour regression\n",
    "\n",
    "Score: -0.18159414799897955\n",
    "\n",
    "RMSE: 72.56790921367904\n",
    "\n",
    "Toelichting: Ook de score van KNearest Neigbhours regression ziet er niet goed uit. Een negatieve score toont wederom aan dat de data niet de trend van het model volgt. Tevens is de RMSE van dit model wel een stuk lager dan die van het lineaire regressie model. \n",
    "\n",
    "                                       Ridge regression\n",
    "\n",
    "Score: 0.1285415379485525\n",
    "\n",
    "RMSE: 62.32091062744355\n",
    "\n",
    "Toelichting: De score van ridge regression ziet er al een stuk beter uit. Een score van afgerond 12,85% procent is niet slecht en de RMSE is ook aanzienlijk lager dan die van voorgaande modellen. \n",
    "\n",
    "\n",
    "### Non-lineaire modellen\n",
    "                                       Decision tree regression\n",
    "\n",
    "Score: 0.0930168093585666\n",
    "\n",
    "RMSE: 63.57846875710983\n",
    "\n",
    "Toelichting: De score van dit decision tree model ligt wat lager dan die van de Ridge regression, namelijk ongeveer 9%. Ook ligt de RMSE ietwat hoger, de decision tree voorspelt dus minder goed dan de Ridge regression. \n",
    "\n",
    "\n",
    "                                        Random Forest regression\n",
    "\n",
    "Score: 0.12916493376924598\n",
    "\n",
    "RMSE: 62.29861607909364\n",
    "\n",
    "Toelichting: Als laatste model hebben we het Random Forest model gebruikt. Met een score van 12,92% scoort dit model het beste en heeft dit model de laagste RMSE. We kiezen er dus voor om op basis van dit model onze voorspellingen te doen die uiteindelijk ook in de applicatie getoond worden. Een random forest past een aantal geclassificeerde beslisbomen toe op verschillende subsets van de data, het model gebruikt de gemiddeldes hiervan om overfitten te voorkomen en de accuraatheid van de voorspelling te verbeteren.  \n",
    "\n",
    "__Voor gedetailleerde stappen van de data preparation zie: Modellen__"
   ]
  },
  {
   "cell_type": "markdown",
   "metadata": {},
   "source": [
    "## Evaluation "
   ]
  },
  {
   "cell_type": "code",
   "execution_count": null,
   "metadata": {},
   "outputs": [],
   "source": []
  }
 ],
 "metadata": {
  "kernelspec": {
   "display_name": "Python 3",
   "language": "python",
   "name": "python3"
  },
  "language_info": {
   "codemirror_mode": {
    "name": "ipython",
    "version": 3
   },
   "file_extension": ".py",
   "mimetype": "text/x-python",
   "name": "python",
   "nbconvert_exporter": "python",
   "pygments_lexer": "ipython3",
   "version": "3.7.4"
  }
 },
 "nbformat": 4,
 "nbformat_minor": 4
}
