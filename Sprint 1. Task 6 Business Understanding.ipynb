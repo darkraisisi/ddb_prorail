{
 "cells": [
  {
   "cell_type": "markdown",
   "metadata": {},
   "source": [
    "### CRISPDM: Business Understanding\n"
   ]
  },
  {
   "cell_type": "markdown",
   "metadata": {},
   "source": [
    "Business understanding is de eerste stap binnen het CRISPDM model. Het gaat hier om de behoefte van de klant. We willen de business objectives en requirements achterhalen. Hierna gaan we deze behoeftes omzetten naar een concreet plan om zo de doelen te behalen. \n"
   ]
  },
  {
   "cell_type": "markdown",
   "metadata": {},
   "source": [
    "### Business Objectives"
   ]
  },
  {
   "cell_type": "markdown",
   "metadata": {},
   "source": [
    "De belangrijkste vraag die we onszelf moeten stellen bij deze stap van Business Understanding is wat de behoeftes van de klant precies zijn. We kijken binnen dit project niet naar hoe we ervoor kunnen zorgen dat problemen op en langs het spoor zo snel mogelijk opgelost kunnen worden. We gaan juist kijken naar op welke manier, wanneer zo'n probleem zich voordoet, we alle stakeholders zo goed mogelijk kunnen inlichten over de huidige situatie. Doormiddel hiervan willen we geld en tijd besparen: \n",
    "\n",
    "1. Na een probleem op of langs het spoor zo veel mogelijk tijd besparen bij de hervatting van de dientsregeling. \n",
    "2. Zo accuraat mogelijke voorspellingen doen zodat elke stakeholder goed op de hoogte is van de huidige situatie. \n",
    "3. Een zo goed mogelijke communicatie creeëren tussen verschillende stakeholders. "
   ]
  },
  {
   "cell_type": "markdown",
   "metadata": {},
   "source": [
    "### Huidige situatie inschatten"
   ]
  },
  {
   "cell_type": "markdown",
   "metadata": {},
   "source": [
    "#### Huidige situatie \n",
    "Momenteel verloopt het proces bij een probleem op/aan het spoor bij ProRail alsvolgt: \n",
    "De machinist of iemand anders meldt het probleem aan de meldkamer, zij lichten de regionale treindienstleiders in. Er wordt een aannemer gebeld die het probleem op gaat lossen, deze aannemer maakt ook meteen een (vaak onjuiste) schatting van hoe lang het duurt om het probleem op te lossen. De incidentenbestrijding wordt ingelicht en op hun beurt maken de NS planners een nieuwe planning om de dienstregeling te hervatten of om bijvoorbeeld vervangend vervoer in te zetten. De reizigersinformatie wordt door de NS gepubliceerd. "
   ]
  },
  {
   "cell_type": "markdown",
   "metadata": {},
   "source": [
    "### Data mining goals"
   ]
  },
  {
   "cell_type": "markdown",
   "metadata": {},
   "source": [
    "Bij data mining goals willen we de business goals omzetten naar objectives die we kunnen gaan vervullen door middel van het gebruik van onze data. Welke data hier precies voor gebruikt kan en gaat worden zullen we nader beslissen in de volgende stappen van het CRISPDM model. "
   ]
  },
  {
   "attachments": {},
   "cell_type": "markdown",
   "metadata": {},
   "source": [
    "Wel kunnen we alvast kijken hoe we zo goed mogelijk onze doelen kunnen formuleren op een iets technischere manier.\n",
    "\n",
    "\n",
    "__Zo accuraat mogelijke voorspellingen doen zodat elke stakeholder goed op de hoogte is van de huidige situatie__\n",
    "\n",
    "Momenteel wordt er bijvoorbeeld gebruik gemaakt van een statische beslisboom om te voorspellen hoe lang een reperatie gaat duren. Ook wordt er veel uitgegaan van intuitie van degene die de inschatting maakt en deze prognose wordt vaak als waarheid aangenomen. We zouden een ander model kunnen gebruiken i.p.v een beslisboom om zo betere inschattingen te kunnen maken voor de reperatieduur. \n",
    "\n",
    "__Een zo goed mogelijke communicatie creeëren tussen verschillende stakeholders__\n",
    "\n",
    "Er valt ook veel te winnen op het vlak van communicatie, er gaat nu veel tijd verloren door de verschillende stakeholders die om en om met elkaar communiceren. Om dit op te lossen willen we de gebruikersapplicatie ontwikkelen. Bij deze applicatie willen we alle stakeholders de mogelijkheid geven om de huidige situatie van een bepaald ongeval in de gaten te houden. "
   ]
  },
  {
   "cell_type": "markdown",
   "metadata": {},
   "source": [
    "### Project plan produceren\n"
   ]
  },
  {
   "cell_type": "markdown",
   "metadata": {},
   "source": [
    "We willen de doelen dus gaan behalen door het maken van een voorspellend model en door het maken van een gebruikersapplicatie. "
   ]
  },
  {
   "cell_type": "markdown",
   "metadata": {},
   "source": [
    "Na deze eerste stap van business understanding zal de stap van data understanding, exploration en preparation volgen. Mogelijk keren we later in het project nog terug naar deze stap om de business objectives te wijzigen of uit te breiden. "
   ]
  },
  {
   "cell_type": "code",
   "execution_count": null,
   "metadata": {},
   "outputs": [],
   "source": []
  }
 ],
 "metadata": {
  "kernelspec": {
   "display_name": "Python 3",
   "language": "python",
   "name": "python3"
  },
  "language_info": {
   "codemirror_mode": {
    "name": "ipython",
    "version": 3
   },
   "file_extension": ".py",
   "mimetype": "text/x-python",
   "name": "python",
   "nbconvert_exporter": "python",
   "pygments_lexer": "ipython3",
   "version": "3.7.4"
  }
 },
 "nbformat": 4,
 "nbformat_minor": 4
}
