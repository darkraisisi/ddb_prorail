{
 "cells": [
  {
   "cell_type": "code",
   "execution_count": null,
   "metadata": {},
   "outputs": [],
   "source": [
    "import pandas as pd\n",
    "import numpy as np\n",
    "import datetime as date\n",
    "import matplotlib.pyplot as plt\n",
    "import seaborn as sns\n",
    "pd.set_option('display.max_columns', None)"
   ]
  },
  {
   "cell_type": "code",
   "execution_count": null,
   "metadata": {},
   "outputs": [],
   "source": [
    "df = pd.read_csv(\"sap_storing_data_hu_project.csv\")"
   ]
  },
  {
   "cell_type": "markdown",
   "metadata": {},
   "source": [
    "__1.1 Target variabele bepalen__\n",
    "\n",
    "De target variabele waarnaar we willen gaan voorspellen wordt de eindtijd van de storing. "
   ]
  },
  {
   "cell_type": "markdown",
   "metadata": {},
   "source": [
    "__1.2 Inhoud en betekenis target variabele__\n",
    "\n",
    "\n",
    "We willen voor elk ongeval voorspellen hoe lang de storing gaat duren, hiervoor willen we de eindtijd van de storing voorspellen. Om te kijken naar hoe snel eerdere problemen opgelost zijn hebben we een nieuwe variabele nodig: namelijk de tijd tussen het tijdstip van de melding van een ongeval en het tijdstip waarop het de storing verholpen is. "
   ]
  },
  {
   "cell_type": "code",
   "execution_count": null,
   "metadata": {},
   "outputs": [],
   "source": [
    "df[['stm_sap_meld_ddt', 'stm_sap_storeind_ddt']]"
   ]
  },
  {
   "cell_type": "markdown",
   "metadata": {},
   "source": [
    "__1.3 Target variabele geschikt maken voor model__"
   ]
  },
  {
   "cell_type": "code",
   "execution_count": null,
   "metadata": {},
   "outputs": [],
   "source": [
    "df['stm_sap_meld_ddt'] = pd.to_datetime(df['stm_sap_meld_ddt'], format='%d/%m/%Y %H:%M:%S')\n",
    "df['stm_sap_storeind_ddt'] = pd.to_datetime(df['stm_sap_storeind_ddt'], format='%d/%m/%Y %H:%M:%S')"
   ]
  },
  {
   "cell_type": "code",
   "execution_count": null,
   "metadata": {},
   "outputs": [],
   "source": [
    "# df['diff'] = datetime.strptime(df['stm_sap_meld_ddt'], FMT) - datetime.strptime(df['stm_sap_storeindtijd'], FMT).df['fh']\n",
    "df['diff_meld_strend'] = df['stm_sap_storeind_ddt']-df['stm_sap_meld_ddt']"
   ]
  },
  {
   "cell_type": "code",
   "execution_count": null,
   "metadata": {},
   "outputs": [],
   "source": [
    "df[['diff_meld_strend','stm_sap_meld_ddt', 'stm_sap_storeind_ddt']]"
   ]
  },
  {
   "cell_type": "markdown",
   "metadata": {},
   "source": [
    "Nu tussen andere waardes, de tijd van melden en de tijd van functie herstel."
   ]
  },
  {
   "cell_type": "code",
   "execution_count": null,
   "metadata": {},
   "outputs": [],
   "source": [
    "# df['stm_sap_meldtijd'] = pd.to_datetime(df['stm_sap_meldtijd'], format='%H:%M:%S', errors='coerce')\n",
    "# df['stm_fh_tijd'] = pd.to_datetime(df['stm_fh_tijd'], format='%H:%M:%S', errors='coerce')"
   ]
  },
  {
   "cell_type": "code",
   "execution_count": null,
   "metadata": {},
   "outputs": [],
   "source": [
    "# df['diff_meld_fhtijd'] = (df['stm_fh_tijd'] - df['stm_sap_meldtijd'] )\n",
    "# df['diff_meld_fhtijd2'] = (df['stm_sap_meldtijd'] - df['stm_fh_tijd'])"
   ]
  },
  {
   "cell_type": "markdown",
   "metadata": {},
   "source": [
    "Data dat iets is opgelost in de toekomst is onzin dus die verweideren."
   ]
  },
  {
   "cell_type": "code",
   "execution_count": null,
   "metadata": {},
   "outputs": [],
   "source": [
    "df[df['stm_sap_storeind_ddt'] >= date.datetime.today()][['stm_sap_storeind_ddt','stm_sap_meld_ddt']]\n",
    "df.drop(df[df['stm_sap_storeind_ddt'] >= date.datetime.today()][['stm_sap_storeind_ddt','stm_sap_meld_ddt']].index,inplace=True)"
   ]
  },
  {
   "cell_type": "markdown",
   "metadata": {},
   "source": [
    "Een verschil van 10 jaar slaat ook nergens op.<br>\n",
    "En de tijd van ernstige reparaties met spoen is altijd binnen dezelfde dag nog gedaan dus alles wat langer dan een dag duurt gaat er uit."
   ]
  },
  {
   "cell_type": "code",
   "execution_count": null,
   "metadata": {},
   "outputs": [],
   "source": [
    "cols = ['stm_sap_meld_ddt','stm_sap_storeind_ddt','diff_meld_strend']\n",
    "df.drop(df[df.apply(lambda x: x['diff_meld_strend'].days >= 1, axis=1)][cols].index, inplace = True)"
   ]
  },
  {
   "cell_type": "markdown",
   "metadata": {},
   "source": [
    "Rijen waar het probleem eerder is opgelost dan de melding is ook onbetrouwbare data."
   ]
  },
  {
   "cell_type": "code",
   "execution_count": null,
   "metadata": {},
   "outputs": [],
   "source": [
    "df.drop(df[df['diff_meld_strend'] < df['diff_meld_strend'][0]][cols].index, inplace = True)"
   ]
  },
  {
   "cell_type": "code",
   "execution_count": null,
   "metadata": {
    "scrolled": false
   },
   "outputs": [],
   "source": [
    "# neg = df[df['diff_meld_strend'] < df['diff_meld_strend'][0]][cols]\n",
    "# print(neg.shape)# 262 meldingen NA dat de storing was opgelost\n",
    "# display(neg)\n",
    "# display(neg.describe())"
   ]
  },
  {
   "cell_type": "code",
   "execution_count": null,
   "metadata": {},
   "outputs": [],
   "source": [
    "pos = df[df['diff_meld_strend'] > df['diff_meld_strend'][0]][cols]\n",
    "print(pos.shape)# 659813 meldingen NA dat de storing was opgelost\n",
    "display(pos)\n",
    "display(pos.describe())"
   ]
  },
  {
   "cell_type": "code",
   "execution_count": null,
   "metadata": {
    "scrolled": true
   },
   "outputs": [],
   "source": []
  },
  {
   "cell_type": "code",
   "execution_count": null,
   "metadata": {},
   "outputs": [],
   "source": [
    "box_all = plt.boxplot(df['diff_meld_strend'],labels=['Spreiding van melding tot storing einde'])"
   ]
  },
  {
   "cell_type": "code",
   "execution_count": null,
   "metadata": {},
   "outputs": [],
   "source": [
    "box_pos = plt.boxplot(pos['diff_meld_strend'],labels=['Spreiding van melding tot storing einde'])"
   ]
  },
  {
   "cell_type": "code",
   "execution_count": null,
   "metadata": {},
   "outputs": [],
   "source": [
    "box_neg = plt.boxplot(neg['diff_meld_strend'],labels=['Spreiding van melding tot storing einde'])"
   ]
  },
  {
   "cell_type": "markdown",
   "metadata": {},
   "source": [
    "Voor een baseline model kiezen we de meest voorkomende tijd.<br>\n",
    "Dat is het getal dat je onder de mediaan vind: `02:17:00`.\n",
    "<br><br>\n",
    "Als baseline zeggen we dan ook: \"Alle storingen zijn binnen 2 uur en 17 minuten opgelost.\"."
   ]
  },
  {
   "cell_type": "code",
   "execution_count": null,
   "metadata": {},
   "outputs": [],
   "source": [
    "amntInTime = df[df['diff_meld_strend'] < date.timedelta(hours=2,minutes=17)][cols].count()[0]\n",
    "total = df.shape[0]\n",
    "print(f'{amntInTime / total * 100}% van de tijd heeft het baseline model het goed.')"
   ]
  },
  {
   "cell_type": "code",
   "execution_count": null,
   "metadata": {},
   "outputs": [],
   "source": []
  }
 ],
 "metadata": {
  "kernelspec": {
   "display_name": "Python 3.8.3 64-bit",
   "language": "python",
   "name": "python38364bit5cdb2531dd3545ea9b3fd1a8a995abfc"
  },
  "language_info": {
   "codemirror_mode": {
    "name": "ipython",
    "version": 3
   },
   "file_extension": ".py",
   "mimetype": "text/x-python",
   "name": "python",
   "nbconvert_exporter": "python",
   "pygments_lexer": "ipython3",
   "version": "3.8.3"
  }
 },
 "nbformat": 4,
 "nbformat_minor": 4
}
