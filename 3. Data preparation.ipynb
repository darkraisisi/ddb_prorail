{
 "cells": [
  {
   "cell_type": "markdown",
   "metadata": {},
   "source": [
    "# Data preparation"
   ]
  },
  {
   "cell_type": "markdown",
   "metadata": {},
   "source": [
    "We gaan verder met de volgende stap; data preparation. In deze stap gaan we zorgen dat de dataset straks bruikbaar is om toe te passen binnen ons voorspellende model. "
   ]
  },
  {
   "cell_type": "code",
   "execution_count": 1,
   "metadata": {},
   "outputs": [],
   "source": [
    "import numpy as np\n",
    "import pandas as pd\n",
    "import seaborn as sns\n",
    "import datetime as date\n",
    "\n",
    "\n",
    "pd.set_option('display.max_columns', None)"
   ]
  },
  {
   "cell_type": "markdown",
   "metadata": {},
   "source": [
    "## 1. Onbruikbare kolommen "
   ]
  },
  {
   "cell_type": "markdown",
   "metadata": {},
   "source": [
    "### 1.1 Niet van toepassing"
   ]
  },
  {
   "cell_type": "markdown",
   "metadata": {},
   "source": [
    "Allereerst verwijderen we de kolommen die volgens de volgens product owner niet van toepassing zijn binnen dit project. Het aantal kolommen is hierdoor ruim gehalveerd. "
   ]
  },
  {
   "cell_type": "code",
   "execution_count": 2,
   "metadata": {},
   "outputs": [],
   "source": [
    "usefullcols = ['stm_mon_nr','stm_sap_meld_ddt','stm_status_melding_sap','stm_km_van_mld','stm_km_tot_mld','stm_km_van_gst',\n",
    "'stm_km_tot_gst','stm_fh_tijd','stm_sap_melddatum','stm_aanngeb_tijd','stm_aanntpl_tijd','stm_arbeid',\n",
    "'stm_progfh_in_tijd','stm_progfh_in_invoer_tijd','stm_progfh_in_duur','stm_sap_storeindtijd','stm_progfh_gw_tijd',\n",
    "'stm_reactie_duur','stm_progfh_gw_duur','stm_progfh_gw_teller','stm_afspr_aanvangdd','stm_afspr_aanvangtijd',\n",
    "'stm_fh_duur','stm_evb','stm_sap_meldtijd','stm_sap_meldtekst_lang','stm_prioriteit','stm_oh_pg_gst',\n",
    "'stm_sap_meldtekst','stm_techn_gst','stm_contractgeb_gst','stm_tao_indicator','stm_geo_mld','stm_functiepl_mld',\n",
    "'stm_geo_mld_uit_functiepl','stm_aanngeb_ddt','stm_aanngeb_dd','stm_oorz_code','stm_oorz_groep','stm_oorz_tkst',\n",
    "'stm_fh_dd','stm_fh_status','stm_geo_gst','stm_functiepl_gst','stm_geo_gst_uit_functiepl','stm_fh_ddt',\n",
    "'stm_aanntpl_dd','stm_techn_mld','stm_sap_storeinddatum','stm_equipm_nr_mld','stm_equipm_soort_mld',\n",
    "'stm_equipm_omschr_mld','stm_sap_storeind_ddt','stm_contractgeb_mld','stm_equipm_nr_gst','stm_equipm_soort_gst',\n",
    "'stm_equipm_omschr_gst','stm_progfh_in_invoer_dat','stm_progfh_in_datum','stm_oorz_tekst_kort','stm_dstrglp_naar',\n",
    "'stm_tao_indicator_vorige','stm_vl_post','stm_dstrglp_van','stm_pplg_van','stm_tao_soort_mutatie',\n",
    "'stm_progfh_gw_lwd_tijd','stm_pplg_naar','stm_progfh_gw_lwd_datum']\n",
    "\n",
    "nvt = ['stm_sap_mon_meld_ddt','stm_mon_begin_ddt','stm_mon_toelichting_trdl','stm_oh_pg_mld','stm_scenario_mon','stm_mon_nr_status_omschr',\n",
    "'stm_mon_nr__statuscode','stm_mon_nr_status_wijzdd','stm_aanntpl_ddt','stm_objectdl_code_gst','stm_objectdl_groep_gst',\n",
    "'stm_progfh_in_ddt','stm_progfh_in_invoer_ddt','stm_progfh_gw_ddt','stm_progfh_gw_lwd_ddt','stm_progfh_hz','stm_veroorz_groep',\n",
    "'stm_veroorz_code','stm_veroorz_tekst_kort','stm_effect','stm_afspr_aanvangddt','stm_mon_eind_ddt','stm_mon_vhdsincident',\n",
    "'stm_dir_betrok_tr','stm_aangelegd_dd','stm_aangelegd_tijd','stm_mon_begindatum','stm_mon_begintijd','stm_progfh_gw_datum',\n",
    "'stm_mon_eind_datum','stm_mon_eind_tijd','stm_controle_dd','stm_akkoord_mon_toewijz','stm_status_sapnaarmon','stm_fact_jn',\n",
    "'stm_akkoord_melding_jn','stm_afsluit_ddt','stm_afsluit_dd','stm_afsluit_tijd','stm_rec_toegev_ddt','stm_hinderwaarde','stm_actie',\n",
    "'stm_standplaats','stm_status_gebr','stm_wbi_nummer','stm_projnr','stm_historie_toelichting','stm_schade_verhaalb_jn','stm_schadenr',\n",
    "'stm_schade_status_ga','stm_schade_statusdatum','stm_relatiervo_vorig','stm_relatiervo_volgend','stm_relatiervo','stm_afspr_func_hersteldd',\n",
    "'stm_afspr_func_hersteltijd','stm_sorteerveld','stm_rapportage_maand','stm_rapportage_jaar','stm_x_bron_publ_dt','stm_x_bron_bestandsnaam',\n",
    "'stm_x_bron_arch_dt','stm_x_actueel_ind','stm_x_run_id','stm_x_bk','stm_x_start_sessie_dt','stm_x_vervallen_ind']"
   ]
  },
  {
   "cell_type": "code",
   "execution_count": 3,
   "metadata": {},
   "outputs": [
    {
     "name": "stderr",
     "output_type": "stream",
     "text": [
      "/Users/jet/opt/anaconda3/lib/python3.7/site-packages/IPython/core/interactiveshell.py:3146: DtypeWarning: Columns (11,24,27,49,51,55,56,73,75,78,80,82,86,87,91,95,123,124) have mixed types.Specify dtype option on import or set low_memory=False.\n",
      "  interactivity=interactivity, compiler=compiler, result=result)\n"
     ]
    }
   ],
   "source": [
    "df = pd.read_csv('sap_storing_data_hu_project.csv',usecols=usefullcols, low_memory=True)"
   ]
  },
  {
   "cell_type": "markdown",
   "metadata": {},
   "source": [
    "### 1.2 Lege waardes"
   ]
  },
  {
   "cell_type": "markdown",
   "metadata": {},
   "source": [
    "We willen op een manier in kaart brengen welke kolommen wel en niet moeten worden meegenomen binnen ons model. Hieronder tonen we een grafiek van de verschillende kolommen en hoeveel waardes deze kolommen bevatten. We zien duidelijk dat elke kolom met een id hoger dan 30 bestaat uit aanzienlijk weinig waardes. "
   ]
  },
  {
   "cell_type": "code",
   "execution_count": 4,
   "metadata": {},
   "outputs": [],
   "source": [
    "def initEmpty():\n",
    "    empty = df.isna().sum().to_frame(name='count').reset_index().rename(columns={\"index\":\"colnames\"})\n",
    "    return empty[empty['count'] > 0].sort_values(by='count',ascending=False).reset_index(drop=True)\n",
    "empty = initEmpty()"
   ]
  },
  {
   "cell_type": "code",
   "execution_count": 5,
   "metadata": {},
   "outputs": [
    {
     "data": {
      "text/plain": [
       "'There are a total of 69 columns with empty values.'"
      ]
     },
     "execution_count": 5,
     "metadata": {},
     "output_type": "execute_result"
    }
   ],
   "source": [
    "f'There are a total of {empty.shape[0]} columns with empty values.'"
   ]
  },
  {
   "cell_type": "code",
   "execution_count": 6,
   "metadata": {},
   "outputs": [
    {
     "data": {
      "text/plain": [
       "<AxesSubplot:xlabel='index'>"
      ]
     },
     "execution_count": 6,
     "metadata": {},
     "output_type": "execute_result"
    },
    {
     "data": {
      "image/png": "[encoded data removed]",
      "text/plain": [
       "<Figure size 432x288 with 1 Axes>"
      ]
     },
     "metadata": {
      "needs_background": "light"
     },
     "output_type": "display_data"
    }
   ],
   "source": [
    "empty.reset_index().plot(kind='line', x='index', y='count')"
   ]
  },
  {
   "cell_type": "markdown",
   "metadata": {},
   "source": [
    "Hieronder tonen we een overzicht die het aantal nullwaardes per kolom telt en een percentage geeft dat laat zien hoeveel procent van die kolom bestaat uit null waardes. Dit overzicht geeft aan dat kolommen met een id tot ongeveer 30 heel veel lege waardes bevatten. Vanaf ongeveer kolom met id 37 is dit gehalte een stuk lager. "
   ]
  },
  {
   "cell_type": "code",
   "execution_count": 7,
   "metadata": {},
   "outputs": [
    {
     "name": "stdout",
     "output_type": "stream",
     "text": [
      "De verhouding afwezige waardes op het totaal\n"
     ]
    },
    {
     "data": {
      "text/html": [
       "<div>\n",
       "<style scoped>\n",
       "    .dataframe tbody tr th:only-of-type {\n",
       "        vertical-align: middle;\n",
       "    }\n",
       "\n",
       "    .dataframe tbody tr th {\n",
       "        vertical-align: top;\n",
       "    }\n",
       "\n",
       "    .dataframe thead th {\n",
       "        text-align: right;\n",
       "    }\n",
       "</style>\n",
       "<table border=\"1\" class=\"dataframe\">\n",
       "  <thead>\n",
       "    <tr style=\"text-align: right;\">\n",
       "      <th></th>\n",
       "      <th>colnames</th>\n",
       "      <th>count</th>\n",
       "      <th>perc</th>\n",
       "    </tr>\n",
       "  </thead>\n",
       "  <tbody>\n",
       "    <tr>\n",
       "      <th>0</th>\n",
       "      <td>stm_progfh_gw_lwd_datum</td>\n",
       "      <td>893514</td>\n",
       "      <td>99.442198</td>\n",
       "    </tr>\n",
       "    <tr>\n",
       "      <th>1</th>\n",
       "      <td>stm_pplg_naar</td>\n",
       "      <td>838138</td>\n",
       "      <td>93.279215</td>\n",
       "    </tr>\n",
       "    <tr>\n",
       "      <th>2</th>\n",
       "      <td>stm_progfh_gw_lwd_tijd</td>\n",
       "      <td>831834</td>\n",
       "      <td>92.577622</td>\n",
       "    </tr>\n",
       "    <tr>\n",
       "      <th>3</th>\n",
       "      <td>stm_tao_soort_mutatie</td>\n",
       "      <td>644026</td>\n",
       "      <td>71.675834</td>\n",
       "    </tr>\n",
       "    <tr>\n",
       "      <th>4</th>\n",
       "      <td>stm_pplg_van</td>\n",
       "      <td>643777</td>\n",
       "      <td>71.648121</td>\n",
       "    </tr>\n",
       "    <tr>\n",
       "      <th>5</th>\n",
       "      <td>stm_dstrglp_van</td>\n",
       "      <td>589042</td>\n",
       "      <td>65.556478</td>\n",
       "    </tr>\n",
       "    <tr>\n",
       "      <th>6</th>\n",
       "      <td>stm_vl_post</td>\n",
       "      <td>588027</td>\n",
       "      <td>65.443515</td>\n",
       "    </tr>\n",
       "    <tr>\n",
       "      <th>7</th>\n",
       "      <td>stm_tao_indicator_vorige</td>\n",
       "      <td>568685</td>\n",
       "      <td>63.290879</td>\n",
       "    </tr>\n",
       "    <tr>\n",
       "      <th>8</th>\n",
       "      <td>stm_dstrglp_naar</td>\n",
       "      <td>532766</td>\n",
       "      <td>59.293332</td>\n",
       "    </tr>\n",
       "    <tr>\n",
       "      <th>9</th>\n",
       "      <td>stm_oorz_tekst_kort</td>\n",
       "      <td>509896</td>\n",
       "      <td>56.748052</td>\n",
       "    </tr>\n",
       "    <tr>\n",
       "      <th>10</th>\n",
       "      <td>stm_progfh_in_datum</td>\n",
       "      <td>321276</td>\n",
       "      <td>35.755894</td>\n",
       "    </tr>\n",
       "    <tr>\n",
       "      <th>11</th>\n",
       "      <td>stm_progfh_in_invoer_dat</td>\n",
       "      <td>320809</td>\n",
       "      <td>35.703920</td>\n",
       "    </tr>\n",
       "    <tr>\n",
       "      <th>12</th>\n",
       "      <td>stm_equipm_omschr_gst</td>\n",
       "      <td>292816</td>\n",
       "      <td>32.588484</td>\n",
       "    </tr>\n",
       "    <tr>\n",
       "      <th>13</th>\n",
       "      <td>stm_equipm_soort_gst</td>\n",
       "      <td>292815</td>\n",
       "      <td>32.588373</td>\n",
       "    </tr>\n",
       "    <tr>\n",
       "      <th>14</th>\n",
       "      <td>stm_equipm_nr_gst</td>\n",
       "      <td>292805</td>\n",
       "      <td>32.587260</td>\n",
       "    </tr>\n",
       "    <tr>\n",
       "      <th>15</th>\n",
       "      <td>stm_contractgeb_mld</td>\n",
       "      <td>237509</td>\n",
       "      <td>26.433181</td>\n",
       "    </tr>\n",
       "    <tr>\n",
       "      <th>16</th>\n",
       "      <td>stm_sap_storeind_ddt</td>\n",
       "      <td>237431</td>\n",
       "      <td>26.424500</td>\n",
       "    </tr>\n",
       "    <tr>\n",
       "      <th>17</th>\n",
       "      <td>stm_equipm_omschr_mld</td>\n",
       "      <td>237408</td>\n",
       "      <td>26.421940</td>\n",
       "    </tr>\n",
       "    <tr>\n",
       "      <th>18</th>\n",
       "      <td>stm_equipm_soort_mld</td>\n",
       "      <td>237403</td>\n",
       "      <td>26.421383</td>\n",
       "    </tr>\n",
       "    <tr>\n",
       "      <th>19</th>\n",
       "      <td>stm_equipm_nr_mld</td>\n",
       "      <td>237400</td>\n",
       "      <td>26.421050</td>\n",
       "    </tr>\n",
       "    <tr>\n",
       "      <th>20</th>\n",
       "      <td>stm_sap_storeinddatum</td>\n",
       "      <td>237359</td>\n",
       "      <td>26.416487</td>\n",
       "    </tr>\n",
       "    <tr>\n",
       "      <th>21</th>\n",
       "      <td>stm_techn_mld</td>\n",
       "      <td>234127</td>\n",
       "      <td>26.056786</td>\n",
       "    </tr>\n",
       "    <tr>\n",
       "      <th>22</th>\n",
       "      <td>stm_aanntpl_dd</td>\n",
       "      <td>208611</td>\n",
       "      <td>23.217024</td>\n",
       "    </tr>\n",
       "    <tr>\n",
       "      <th>23</th>\n",
       "      <td>stm_fh_ddt</td>\n",
       "      <td>165635</td>\n",
       "      <td>18.434080</td>\n",
       "    </tr>\n",
       "    <tr>\n",
       "      <th>24</th>\n",
       "      <td>stm_geo_gst_uit_functiepl</td>\n",
       "      <td>156958</td>\n",
       "      <td>17.468387</td>\n",
       "    </tr>\n",
       "    <tr>\n",
       "      <th>25</th>\n",
       "      <td>stm_functiepl_gst</td>\n",
       "      <td>156232</td>\n",
       "      <td>17.387588</td>\n",
       "    </tr>\n",
       "    <tr>\n",
       "      <th>26</th>\n",
       "      <td>stm_geo_gst</td>\n",
       "      <td>156202</td>\n",
       "      <td>17.384249</td>\n",
       "    </tr>\n",
       "    <tr>\n",
       "      <th>27</th>\n",
       "      <td>stm_fh_status</td>\n",
       "      <td>151208</td>\n",
       "      <td>16.828450</td>\n",
       "    </tr>\n",
       "    <tr>\n",
       "      <th>28</th>\n",
       "      <td>stm_fh_dd</td>\n",
       "      <td>127267</td>\n",
       "      <td>14.163975</td>\n",
       "    </tr>\n",
       "    <tr>\n",
       "      <th>29</th>\n",
       "      <td>stm_oorz_tkst</td>\n",
       "      <td>102475</td>\n",
       "      <td>11.404790</td>\n",
       "    </tr>\n",
       "    <tr>\n",
       "      <th>30</th>\n",
       "      <td>stm_oorz_groep</td>\n",
       "      <td>53430</td>\n",
       "      <td>5.946406</td>\n",
       "    </tr>\n",
       "    <tr>\n",
       "      <th>31</th>\n",
       "      <td>stm_oorz_code</td>\n",
       "      <td>53413</td>\n",
       "      <td>5.944514</td>\n",
       "    </tr>\n",
       "    <tr>\n",
       "      <th>32</th>\n",
       "      <td>stm_aanngeb_dd</td>\n",
       "      <td>33571</td>\n",
       "      <td>3.736230</td>\n",
       "    </tr>\n",
       "    <tr>\n",
       "      <th>33</th>\n",
       "      <td>stm_aanngeb_ddt</td>\n",
       "      <td>33564</td>\n",
       "      <td>3.735451</td>\n",
       "    </tr>\n",
       "    <tr>\n",
       "      <th>34</th>\n",
       "      <td>stm_geo_mld_uit_functiepl</td>\n",
       "      <td>13600</td>\n",
       "      <td>1.513590</td>\n",
       "    </tr>\n",
       "    <tr>\n",
       "      <th>35</th>\n",
       "      <td>stm_functiepl_mld</td>\n",
       "      <td>11867</td>\n",
       "      <td>1.320719</td>\n",
       "    </tr>\n",
       "    <tr>\n",
       "      <th>36</th>\n",
       "      <td>stm_geo_mld</td>\n",
       "      <td>11833</td>\n",
       "      <td>1.316935</td>\n",
       "    </tr>\n",
       "  </tbody>\n",
       "</table>\n",
       "</div>"
      ],
      "text/plain": [
       "                     colnames   count       perc\n",
       "0     stm_progfh_gw_lwd_datum  893514  99.442198\n",
       "1               stm_pplg_naar  838138  93.279215\n",
       "2      stm_progfh_gw_lwd_tijd  831834  92.577622\n",
       "3       stm_tao_soort_mutatie  644026  71.675834\n",
       "4                stm_pplg_van  643777  71.648121\n",
       "5             stm_dstrglp_van  589042  65.556478\n",
       "6                 stm_vl_post  588027  65.443515\n",
       "7    stm_tao_indicator_vorige  568685  63.290879\n",
       "8            stm_dstrglp_naar  532766  59.293332\n",
       "9         stm_oorz_tekst_kort  509896  56.748052\n",
       "10        stm_progfh_in_datum  321276  35.755894\n",
       "11   stm_progfh_in_invoer_dat  320809  35.703920\n",
       "12      stm_equipm_omschr_gst  292816  32.588484\n",
       "13       stm_equipm_soort_gst  292815  32.588373\n",
       "14          stm_equipm_nr_gst  292805  32.587260\n",
       "15        stm_contractgeb_mld  237509  26.433181\n",
       "16       stm_sap_storeind_ddt  237431  26.424500\n",
       "17      stm_equipm_omschr_mld  237408  26.421940\n",
       "18       stm_equipm_soort_mld  237403  26.421383\n",
       "19          stm_equipm_nr_mld  237400  26.421050\n",
       "20      stm_sap_storeinddatum  237359  26.416487\n",
       "21              stm_techn_mld  234127  26.056786\n",
       "22             stm_aanntpl_dd  208611  23.217024\n",
       "23                 stm_fh_ddt  165635  18.434080\n",
       "24  stm_geo_gst_uit_functiepl  156958  17.468387\n",
       "25          stm_functiepl_gst  156232  17.387588\n",
       "26                stm_geo_gst  156202  17.384249\n",
       "27              stm_fh_status  151208  16.828450\n",
       "28                  stm_fh_dd  127267  14.163975\n",
       "29              stm_oorz_tkst  102475  11.404790\n",
       "30             stm_oorz_groep   53430   5.946406\n",
       "31              stm_oorz_code   53413   5.944514\n",
       "32             stm_aanngeb_dd   33571   3.736230\n",
       "33            stm_aanngeb_ddt   33564   3.735451\n",
       "34  stm_geo_mld_uit_functiepl   13600   1.513590\n",
       "35          stm_functiepl_mld   11867   1.320719\n",
       "36                stm_geo_mld   11833   1.316935"
      ]
     },
     "metadata": {},
     "output_type": "display_data"
    },
    {
     "data": {
      "text/html": [
       "<div>\n",
       "<style scoped>\n",
       "    .dataframe tbody tr th:only-of-type {\n",
       "        vertical-align: middle;\n",
       "    }\n",
       "\n",
       "    .dataframe tbody tr th {\n",
       "        vertical-align: top;\n",
       "    }\n",
       "\n",
       "    .dataframe thead th {\n",
       "        text-align: right;\n",
       "    }\n",
       "</style>\n",
       "<table border=\"1\" class=\"dataframe\">\n",
       "  <thead>\n",
       "    <tr style=\"text-align: right;\">\n",
       "      <th></th>\n",
       "      <th>colnames</th>\n",
       "      <th>count</th>\n",
       "      <th>perc</th>\n",
       "    </tr>\n",
       "  </thead>\n",
       "  <tbody>\n",
       "    <tr>\n",
       "      <th>37</th>\n",
       "      <td>stm_tao_indicator</td>\n",
       "      <td>1318</td>\n",
       "      <td>0.146685</td>\n",
       "    </tr>\n",
       "    <tr>\n",
       "      <th>38</th>\n",
       "      <td>stm_techn_gst</td>\n",
       "      <td>223</td>\n",
       "      <td>0.024818</td>\n",
       "    </tr>\n",
       "    <tr>\n",
       "      <th>39</th>\n",
       "      <td>stm_contractgeb_gst</td>\n",
       "      <td>223</td>\n",
       "      <td>0.024818</td>\n",
       "    </tr>\n",
       "    <tr>\n",
       "      <th>40</th>\n",
       "      <td>stm_sap_meldtekst</td>\n",
       "      <td>199</td>\n",
       "      <td>0.022147</td>\n",
       "    </tr>\n",
       "    <tr>\n",
       "      <th>41</th>\n",
       "      <td>stm_oh_pg_gst</td>\n",
       "      <td>189</td>\n",
       "      <td>0.021034</td>\n",
       "    </tr>\n",
       "    <tr>\n",
       "      <th>42</th>\n",
       "      <td>stm_prioriteit</td>\n",
       "      <td>161</td>\n",
       "      <td>0.017918</td>\n",
       "    </tr>\n",
       "    <tr>\n",
       "      <th>43</th>\n",
       "      <td>stm_sap_meldtekst_lang</td>\n",
       "      <td>140</td>\n",
       "      <td>0.015581</td>\n",
       "    </tr>\n",
       "    <tr>\n",
       "      <th>44</th>\n",
       "      <td>stm_fh_duur</td>\n",
       "      <td>38</td>\n",
       "      <td>0.004229</td>\n",
       "    </tr>\n",
       "    <tr>\n",
       "      <th>45</th>\n",
       "      <td>stm_reactie_duur</td>\n",
       "      <td>38</td>\n",
       "      <td>0.004229</td>\n",
       "    </tr>\n",
       "    <tr>\n",
       "      <th>46</th>\n",
       "      <td>stm_fh_tijd</td>\n",
       "      <td>38</td>\n",
       "      <td>0.004229</td>\n",
       "    </tr>\n",
       "    <tr>\n",
       "      <th>47</th>\n",
       "      <td>stm_sap_storeindtijd</td>\n",
       "      <td>38</td>\n",
       "      <td>0.004229</td>\n",
       "    </tr>\n",
       "    <tr>\n",
       "      <th>48</th>\n",
       "      <td>stm_afspr_aanvangtijd</td>\n",
       "      <td>38</td>\n",
       "      <td>0.004229</td>\n",
       "    </tr>\n",
       "    <tr>\n",
       "      <th>49</th>\n",
       "      <td>stm_afspr_aanvangdd</td>\n",
       "      <td>38</td>\n",
       "      <td>0.004229</td>\n",
       "    </tr>\n",
       "    <tr>\n",
       "      <th>50</th>\n",
       "      <td>stm_progfh_gw_teller</td>\n",
       "      <td>38</td>\n",
       "      <td>0.004229</td>\n",
       "    </tr>\n",
       "    <tr>\n",
       "      <th>51</th>\n",
       "      <td>stm_progfh_gw_duur</td>\n",
       "      <td>38</td>\n",
       "      <td>0.004229</td>\n",
       "    </tr>\n",
       "    <tr>\n",
       "      <th>52</th>\n",
       "      <td>stm_sap_meldtijd</td>\n",
       "      <td>38</td>\n",
       "      <td>0.004229</td>\n",
       "    </tr>\n",
       "    <tr>\n",
       "      <th>53</th>\n",
       "      <td>stm_progfh_gw_tijd</td>\n",
       "      <td>38</td>\n",
       "      <td>0.004229</td>\n",
       "    </tr>\n",
       "    <tr>\n",
       "      <th>54</th>\n",
       "      <td>stm_progfh_in_duur</td>\n",
       "      <td>38</td>\n",
       "      <td>0.004229</td>\n",
       "    </tr>\n",
       "    <tr>\n",
       "      <th>55</th>\n",
       "      <td>stm_progfh_in_invoer_tijd</td>\n",
       "      <td>38</td>\n",
       "      <td>0.004229</td>\n",
       "    </tr>\n",
       "    <tr>\n",
       "      <th>56</th>\n",
       "      <td>stm_progfh_in_tijd</td>\n",
       "      <td>38</td>\n",
       "      <td>0.004229</td>\n",
       "    </tr>\n",
       "    <tr>\n",
       "      <th>57</th>\n",
       "      <td>stm_arbeid</td>\n",
       "      <td>38</td>\n",
       "      <td>0.004229</td>\n",
       "    </tr>\n",
       "    <tr>\n",
       "      <th>58</th>\n",
       "      <td>stm_aanntpl_tijd</td>\n",
       "      <td>38</td>\n",
       "      <td>0.004229</td>\n",
       "    </tr>\n",
       "    <tr>\n",
       "      <th>59</th>\n",
       "      <td>stm_aanngeb_tijd</td>\n",
       "      <td>38</td>\n",
       "      <td>0.004229</td>\n",
       "    </tr>\n",
       "    <tr>\n",
       "      <th>60</th>\n",
       "      <td>stm_sap_melddatum</td>\n",
       "      <td>38</td>\n",
       "      <td>0.004229</td>\n",
       "    </tr>\n",
       "    <tr>\n",
       "      <th>61</th>\n",
       "      <td>stm_evb</td>\n",
       "      <td>38</td>\n",
       "      <td>0.004229</td>\n",
       "    </tr>\n",
       "    <tr>\n",
       "      <th>62</th>\n",
       "      <td>stm_km_tot_gst</td>\n",
       "      <td>5</td>\n",
       "      <td>0.000556</td>\n",
       "    </tr>\n",
       "    <tr>\n",
       "      <th>63</th>\n",
       "      <td>stm_km_van_gst</td>\n",
       "      <td>5</td>\n",
       "      <td>0.000556</td>\n",
       "    </tr>\n",
       "    <tr>\n",
       "      <th>64</th>\n",
       "      <td>stm_status_melding_sap</td>\n",
       "      <td>4</td>\n",
       "      <td>0.000445</td>\n",
       "    </tr>\n",
       "    <tr>\n",
       "      <th>65</th>\n",
       "      <td>stm_km_tot_mld</td>\n",
       "      <td>4</td>\n",
       "      <td>0.000445</td>\n",
       "    </tr>\n",
       "    <tr>\n",
       "      <th>66</th>\n",
       "      <td>stm_km_van_mld</td>\n",
       "      <td>4</td>\n",
       "      <td>0.000445</td>\n",
       "    </tr>\n",
       "    <tr>\n",
       "      <th>67</th>\n",
       "      <td>stm_sap_meld_ddt</td>\n",
       "      <td>1</td>\n",
       "      <td>0.000111</td>\n",
       "    </tr>\n",
       "    <tr>\n",
       "      <th>68</th>\n",
       "      <td>stm_mon_nr</td>\n",
       "      <td>1</td>\n",
       "      <td>0.000111</td>\n",
       "    </tr>\n",
       "  </tbody>\n",
       "</table>\n",
       "</div>"
      ],
      "text/plain": [
       "                     colnames  count      perc\n",
       "37          stm_tao_indicator   1318  0.146685\n",
       "38              stm_techn_gst    223  0.024818\n",
       "39        stm_contractgeb_gst    223  0.024818\n",
       "40          stm_sap_meldtekst    199  0.022147\n",
       "41              stm_oh_pg_gst    189  0.021034\n",
       "42             stm_prioriteit    161  0.017918\n",
       "43     stm_sap_meldtekst_lang    140  0.015581\n",
       "44                stm_fh_duur     38  0.004229\n",
       "45           stm_reactie_duur     38  0.004229\n",
       "46                stm_fh_tijd     38  0.004229\n",
       "47       stm_sap_storeindtijd     38  0.004229\n",
       "48      stm_afspr_aanvangtijd     38  0.004229\n",
       "49        stm_afspr_aanvangdd     38  0.004229\n",
       "50       stm_progfh_gw_teller     38  0.004229\n",
       "51         stm_progfh_gw_duur     38  0.004229\n",
       "52           stm_sap_meldtijd     38  0.004229\n",
       "53         stm_progfh_gw_tijd     38  0.004229\n",
       "54         stm_progfh_in_duur     38  0.004229\n",
       "55  stm_progfh_in_invoer_tijd     38  0.004229\n",
       "56         stm_progfh_in_tijd     38  0.004229\n",
       "57                 stm_arbeid     38  0.004229\n",
       "58           stm_aanntpl_tijd     38  0.004229\n",
       "59           stm_aanngeb_tijd     38  0.004229\n",
       "60          stm_sap_melddatum     38  0.004229\n",
       "61                    stm_evb     38  0.004229\n",
       "62             stm_km_tot_gst      5  0.000556\n",
       "63             stm_km_van_gst      5  0.000556\n",
       "64     stm_status_melding_sap      4  0.000445\n",
       "65             stm_km_tot_mld      4  0.000445\n",
       "66             stm_km_van_mld      4  0.000445\n",
       "67           stm_sap_meld_ddt      1  0.000111\n",
       "68                 stm_mon_nr      1  0.000111"
      ]
     },
     "metadata": {},
     "output_type": "display_data"
    }
   ],
   "source": [
    "def showEmpty(_empty):\n",
    "    _empty['perc'] = _empty['count'] / df.shape[0] * 100\n",
    "    print(f'De verhouding afwezige waardes op het totaal')\n",
    "    display(_empty[:37])\n",
    "    display(_empty[37:])\n",
    "showEmpty(initEmpty())"
   ]
  },
  {
   "cell_type": "code",
   "execution_count": 8,
   "metadata": {},
   "outputs": [
    {
     "data": {
      "text/plain": [
       "'stm_tao_indicator,stm_techn_gst,stm_contractgeb_gst,stm_sap_meldtekst,stm_oh_pg_gst,stm_prioriteit,stm_sap_meldtekst_lang,stm_fh_duur,stm_reactie_duur,stm_fh_tijd,stm_sap_storeindtijd,stm_afspr_aanvangtijd,stm_afspr_aanvangdd,stm_progfh_gw_teller,stm_progfh_gw_duur,stm_sap_meldtijd,stm_progfh_gw_tijd,stm_progfh_in_duur,stm_progfh_in_invoer_tijd,stm_progfh_in_tijd,stm_arbeid,stm_aanntpl_tijd,stm_aanngeb_tijd,stm_sap_melddatum,stm_evb,stm_km_tot_gst,stm_km_van_gst,stm_status_melding_sap,stm_km_tot_mld,stm_km_van_mld,stm_sap_meld_ddt,stm_mon_nr'"
      ]
     },
     "execution_count": 8,
     "metadata": {},
     "output_type": "execute_result"
    }
   ],
   "source": [
    "','.join(empty[37:]['colnames'])\n"
   ]
  },
  {
   "cell_type": "markdown",
   "metadata": {},
   "source": [
    "### 1.3 Dubbele kolommen"
   ]
  },
  {
   "cell_type": "markdown",
   "metadata": {},
   "source": [
    "Bij kolommen met identieke data verwijderen we de kolom met het minst aantal waardes. Wanneer er is mismatch is in de populatie voegen we de kolommen samen. "
   ]
  },
  {
   "cell_type": "code",
   "execution_count": 9,
   "metadata": {},
   "outputs": [],
   "source": [
    "dubbleCol = ['stm_equipm_omschr_*', 'stm_equipm_soort_*', 'stm_equipm_nr_*', \n",
    "             'stm_geo_*_uit_functiepl', 'stm_functiepl_*', 'stm_geo_*',\n",
    "            'stm_km_van_*','stm_km_tot_*',\n",
    "            'stm_contractgeb_*','stm_techn_*']\n",
    "original = 'mld'\n",
    "optional = ['gst'] # Order of least to most important\n",
    "for colPH in dubbleCol:\n",
    "    colOg = colPH.replace('*',original)\n",
    "    \n",
    "    for option in optional:\n",
    "        colOp = colPH.replace('*',option)\n",
    "        df[colPH] = np.where(df[colOp].isna(), df[colOg], df[colOp])\n",
    "        df.drop(columns=[colOp],inplace=True)\n",
    "    df.drop(columns=[colOg],inplace=True)"
   ]
  },
  {
   "cell_type": "code",
   "execution_count": 10,
   "metadata": {},
   "outputs": [
    {
     "data": {
      "text/plain": [
       "(898488, 59)"
      ]
     },
     "execution_count": 10,
     "metadata": {},
     "output_type": "execute_result"
    }
   ],
   "source": [
    "toDrop = ['stm_sap_meld_ddt','stm_sap_melddatum','stm_sap_meldtijd',\n",
    "         'stm_fh_tijd','stm_sap_storeindtijd']\n",
    "df.dropna(subset=toDrop,inplace=True)\n",
    "df.shape"
   ]
  },
  {
   "cell_type": "code",
   "execution_count": 11,
   "metadata": {},
   "outputs": [
    {
     "data": {
      "text/plain": [
       "(169101, 59)"
      ]
     },
     "execution_count": 11,
     "metadata": {},
     "output_type": "execute_result"
    }
   ],
   "source": [
    "df.drop_duplicates(subset=['stm_mon_nr'], keep='last',inplace = True)\n",
    "df.shape"
   ]
  },
  {
   "cell_type": "markdown",
   "metadata": {},
   "source": [
    "## 2. Kansrijke variabelen\n",
    "### 2.1 Feature variabelen\n",
    "\n",
    "We willen onderscheid tussen maken tussen belangrijke kolommen die kunnen dienen als feature variabelen, en variabelen die hiervoor niet belangrijk zijn. Omdat we de belangrijke kolommen niet willen droppen en we ook niet willen dat er veel lege waardes staan in deze kolommen, vullen we de lege waardes op met een default waarde.  "
   ]
  },
  {
   "cell_type": "code",
   "execution_count": 12,
   "metadata": {},
   "outputs": [],
   "source": [
    "df['stm_prioriteit'] = df['stm_prioriteit'].fillna(1) # Laagste prioriteit\n",
    "df['stm_oorz_code'] = df['stm_oorz_code'].fillna(299) # 'Niet gemeld' code\n",
    "df['stm_fh_status'] = df['stm_fh_status'].fillna(1) # Mediaan\n",
    "df['stm_aanngeb_tijd'] = df['stm_aanngeb_tijd'].fillna(df['stm_sap_meldtijd']) # Aannemer beltijd gelijk met melding zetten.\n",
    "df['stm_progfh_in_invoer_tijd'] = df['stm_progfh_in_invoer_tijd'].fillna(df['stm_aanngeb_tijd']) # Tijd van prognose op beltijd zetten.\n",
    "df['stm_equipm_nr_*'] = df['stm_equipm_nr_*'].fillna(0)\n",
    "df['stm_contractgeb_*'] = df['stm_contractgeb_*'].fillna(0)"
   ]
  },
  {
   "cell_type": "code",
   "execution_count": 13,
   "metadata": {},
   "outputs": [],
   "source": [
    "features = ['stm_prioriteit','stm_oorz_code','stm_oorz_groep','stm_equipm_soort_*','stm_geo_*']"
   ]
  },
  {
   "cell_type": "markdown",
   "metadata": {},
   "source": [
    "### 2.2 Target variabele"
   ]
  },
  {
   "cell_type": "markdown",
   "metadata": {},
   "source": [
    "De target variabele die we willen gaan voorspellen is de duur van de storing. "
   ]
  },
  {
   "cell_type": "code",
   "execution_count": 14,
   "metadata": {},
   "outputs": [],
   "source": [
    "target = 'duur'"
   ]
  },
  {
   "cell_type": "markdown",
   "metadata": {},
   "source": [
    "De 'duur' variabele kan berekend worden door het moment dat de aannemer ter plaatste is af te trekken van het tijdstip van functieherstel. \n",
    "\n",
    "We willen hele korte en hele lange storingen verwijderen uit de dataset, zo droppen we dus elke storing die korter duurt dan 5 minuten of langer dan 6 uur. "
   ]
  },
  {
   "cell_type": "code",
   "execution_count": 15,
   "metadata": {},
   "outputs": [],
   "source": [
    "now = date.datetime.today()\n",
    "zeroTimeDiff = now - now\n",
    "\n",
    "df['stm_aanntpl_ddt'] = pd.to_datetime(df['stm_aanntpl_dd']+' '+df['stm_aanntpl_tijd'], format='%d/%m/%Y %H:%M:%S')\n",
    "df['stm_fh_ddt'] = pd.to_datetime(df['stm_fh_ddt'], format='%d/%m/%Y %H:%M:%S')\n",
    "\n",
    "df.dropna(subset=['stm_aanntpl_dd','stm_aanntpl_tijd','stm_fh_ddt'],inplace=True)\n",
    "\n",
    "df['duur'] = df['stm_fh_ddt'] - df['stm_aanntpl_ddt']\n",
    "df.dropna(subset=['duur'],inplace=True)\n",
    "\n",
    "# Meldingen waar de oplossing in de toekomst is zijn onzin.\n",
    "# df[df['stm_sap_storeind_ddt'] >= now][['stm_sap_storeind_ddt','stm_sap_meld_ddt']]\n",
    "# df.drop(df[df['stm_sap_storeind_ddt'] >= now][['stm_sap_storeind_ddt','stm_sap_meld_ddt']].index,inplace=True)\n",
    "\n",
    "# Rijen waar het probleem sneller is opgelost dan 5 minuten (en ook de meldingen tijd) zijn onbetrouwbaar.\n",
    "df.drop(df[df['duur'] <= date.timedelta(minutes=5)].index, inplace = True)\n",
    "\n",
    "# # Alles wat langer dan een dag duurt is niet urgent genoeg en dus niet nuttig.\n",
    "df.drop(df[df['duur'] > date.timedelta(hours=6)].index, inplace = True)"
   ]
  },
  {
   "cell_type": "code",
   "execution_count": 16,
   "metadata": {},
   "outputs": [
    {
     "data": {
      "text/html": [
       "<div>\n",
       "<style scoped>\n",
       "    .dataframe tbody tr th:only-of-type {\n",
       "        vertical-align: middle;\n",
       "    }\n",
       "\n",
       "    .dataframe tbody tr th {\n",
       "        vertical-align: top;\n",
       "    }\n",
       "\n",
       "    .dataframe thead th {\n",
       "        text-align: right;\n",
       "    }\n",
       "</style>\n",
       "<table border=\"1\" class=\"dataframe\">\n",
       "  <thead>\n",
       "    <tr style=\"text-align: right;\">\n",
       "      <th></th>\n",
       "      <th>duur</th>\n",
       "    </tr>\n",
       "  </thead>\n",
       "  <tbody>\n",
       "    <tr>\n",
       "      <th>32099</th>\n",
       "      <td>0 days 00:40:00</td>\n",
       "    </tr>\n",
       "    <tr>\n",
       "      <th>60683</th>\n",
       "      <td>0 days 00:15:00</td>\n",
       "    </tr>\n",
       "    <tr>\n",
       "      <th>85621</th>\n",
       "      <td>0 days 00:35:00</td>\n",
       "    </tr>\n",
       "    <tr>\n",
       "      <th>91875</th>\n",
       "      <td>0 days 03:40:19</td>\n",
       "    </tr>\n",
       "    <tr>\n",
       "      <th>92852</th>\n",
       "      <td>0 days 00:55:00</td>\n",
       "    </tr>\n",
       "    <tr>\n",
       "      <th>...</th>\n",
       "      <td>...</td>\n",
       "    </tr>\n",
       "    <tr>\n",
       "      <th>898355</th>\n",
       "      <td>0 days 00:18:00</td>\n",
       "    </tr>\n",
       "    <tr>\n",
       "      <th>898368</th>\n",
       "      <td>0 days 01:30:00</td>\n",
       "    </tr>\n",
       "    <tr>\n",
       "      <th>898413</th>\n",
       "      <td>0 days 00:39:54</td>\n",
       "    </tr>\n",
       "    <tr>\n",
       "      <th>898475</th>\n",
       "      <td>0 days 00:58:00</td>\n",
       "    </tr>\n",
       "    <tr>\n",
       "      <th>898525</th>\n",
       "      <td>0 days 00:29:00</td>\n",
       "    </tr>\n",
       "  </tbody>\n",
       "</table>\n",
       "<p>66657 rows × 1 columns</p>\n",
       "</div>"
      ],
      "text/plain": [
       "                  duur\n",
       "32099  0 days 00:40:00\n",
       "60683  0 days 00:15:00\n",
       "85621  0 days 00:35:00\n",
       "91875  0 days 03:40:19\n",
       "92852  0 days 00:55:00\n",
       "...                ...\n",
       "898355 0 days 00:18:00\n",
       "898368 0 days 01:30:00\n",
       "898413 0 days 00:39:54\n",
       "898475 0 days 00:58:00\n",
       "898525 0 days 00:29:00\n",
       "\n",
       "[66657 rows x 1 columns]"
      ]
     },
     "metadata": {},
     "output_type": "display_data"
    },
    {
     "name": "stdout",
     "output_type": "stream",
     "text": [
      "(66657,)\n"
     ]
    }
   ],
   "source": [
    "display(df[['duur']])\n",
    "print(df['duur'].shape)"
   ]
  },
  {
   "cell_type": "markdown",
   "metadata": {},
   "source": [
    "## 3. Datatypes omzetten"
   ]
  },
  {
   "cell_type": "markdown",
   "metadata": {},
   "source": [
    "Er zijn veel waardes in de dataset die momenteel nog als datatype \"float\" aangegeven worden, deze kunnen vaak ook als integers worden weergegeven. We zetten voor deze waardes het datatype om van een float naar een int. "
   ]
  },
  {
   "cell_type": "code",
   "execution_count": 17,
   "metadata": {},
   "outputs": [],
   "source": [
    "df['stm_prioriteit'] = df['stm_prioriteit'].astype(int)\n",
    "df['stm_oorz_code'] = df['stm_oorz_code'].astype(int)\n",
    "df['stm_fh_status'] = df['stm_fh_status'].astype(int)\n",
    "df['stm_progfh_gw_teller'] = df['stm_progfh_gw_teller'].astype(int)\n",
    "df['stm_equipm_nr_*'] = df['stm_equipm_nr_*'].astype(int)\n",
    "df['stm_contractgeb_*'] = df['stm_contractgeb_*'].astype(int)\n",
    "\n",
    "df['stm_sap_meld_ddt'] = pd.to_datetime(df['stm_sap_meld_ddt'], format='%d/%m/%Y %H:%M:%S')\n",
    "df['stm_sap_storeind_ddt'] = pd.to_datetime(df['stm_sap_storeind_ddt'], format='%d/%m/%Y %H:%M:%S')"
   ]
  },
  {
   "cell_type": "markdown",
   "metadata": {},
   "source": [
    "Nu dat we de bewerkingen op de data hebben uitgevoerd, kunnen we de data gaan gebruiken in de voorspellende modellen. "
   ]
  }
 ],
 "metadata": {
  "kernelspec": {
   "display_name": "Python 3",
   "language": "python",
   "name": "python3"
  },
  "language_info": {
   "codemirror_mode": {
    "name": "ipython",
    "version": 3
   },
   "file_extension": ".py",
   "mimetype": "text/x-python",
   "name": "python",
   "nbconvert_exporter": "python",
   "pygments_lexer": "ipython3",
   "version": "3.7.4"
  }
 },
 "nbformat": 4,
 "nbformat_minor": 4
}
