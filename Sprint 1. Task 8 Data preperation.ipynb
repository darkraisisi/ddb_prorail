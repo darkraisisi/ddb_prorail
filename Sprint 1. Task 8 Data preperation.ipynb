{
 "cells": [
  {
   "cell_type": "code",
   "execution_count": null,
   "metadata": {},
   "outputs": [],
   "source": [
    "import numpy as np\n",
    "import pandas as pd\n",
    "import seaborn as sns\n",
    "\n",
    "from datetime import datetime as date\n",
    "pd.set_option('display.max_columns', None)"
   ]
  },
  {
   "cell_type": "markdown",
   "metadata": {},
   "source": [
    "Om te beginnen kunnen we uit de data dictionary halen welke colommen uberhaupt van waarde zijn.<br>\n",
    "Als eerste stap in het opschonen negeren we alle NVT/Niet van toepasing's colommen."
   ]
  },
  {
   "cell_type": "code",
   "execution_count": null,
   "metadata": {},
   "outputs": [],
   "source": [
    "usefullcols = ['stm_mon_nr','stm_sap_meld_ddt','stm_status_melding_sap','stm_km_van_mld','stm_km_tot_mld','stm_km_van_gst',\n",
    "'stm_km_tot_gst','stm_fh_tijd','stm_sap_melddatum','stm_aanngeb_tijd','stm_aanntpl_tijd','stm_arbeid',\n",
    "'stm_progfh_in_tijd','stm_progfh_in_invoer_tijd','stm_progfh_in_duur','stm_sap_storeindtijd','stm_progfh_gw_tijd',\n",
    "'stm_reactie_duur','stm_progfh_gw_duur','stm_progfh_gw_teller','stm_afspr_aanvangdd','stm_afspr_aanvangtijd',\n",
    "'stm_fh_duur','stm_evb','stm_sap_meldtijd','stm_sap_meldtekst_lang','stm_prioriteit','stm_oh_pg_gst',\n",
    "'stm_sap_meldtekst','stm_techn_gst','stm_contractgeb_gst','stm_tao_indicator','stm_geo_mld','stm_functiepl_mld',\n",
    "'stm_geo_mld_uit_functiepl','stm_aanngeb_ddt','stm_aanngeb_dd','stm_oorz_code','stm_oorz_groep','stm_oorz_tkst',\n",
    "'stm_fh_dd','stm_fh_status','stm_geo_gst','stm_functiepl_gst','stm_geo_gst_uit_functiepl','stm_fh_ddt',\n",
    "'stm_aanntpl_dd','stm_techn_mld','stm_sap_storeinddatum','stm_equipm_nr_mld','stm_equipm_soort_mld',\n",
    "'stm_equipm_omschr_mld','stm_sap_storeind_ddt','stm_contractgeb_mld','stm_equipm_nr_gst','stm_equipm_soort_gst',\n",
    "'stm_equipm_omschr_gst','stm_progfh_in_invoer_dat','stm_progfh_in_datum','stm_oorz_tekst_kort','stm_dstrglp_naar',\n",
    "'stm_tao_indicator_vorige','stm_vl_post','stm_dstrglp_van','stm_pplg_van','stm_tao_soort_mutatie',\n",
    "'stm_progfh_gw_lwd_tijd','stm_pplg_naar','stm_progfh_gw_lwd_datum']\n",
    "\n",
    "nvt = ['stm_sap_mon_meld_ddt','stm_mon_begin_ddt','stm_mon_toelichting_trdl','stm_oh_pg_mld','stm_scenario_mon','stm_mon_nr_status_omschr',\n",
    "'stm_mon_nr__statuscode','stm_mon_nr_status_wijzdd','stm_aanntpl_ddt','stm_objectdl_code_gst','stm_objectdl_groep_gst',\n",
    "'stm_progfh_in_ddt','stm_progfh_in_invoer_ddt','stm_progfh_gw_ddt','stm_progfh_gw_lwd_ddt','stm_progfh_hz','stm_veroorz_groep',\n",
    "'stm_veroorz_code','stm_veroorz_tekst_kort','stm_effect','stm_afspr_aanvangddt','stm_mon_eind_ddt','stm_mon_vhdsincident',\n",
    "'stm_dir_betrok_tr','stm_aangelegd_dd','stm_aangelegd_tijd','stm_mon_begindatum','stm_mon_begintijd','stm_progfh_gw_datum',\n",
    "'stm_mon_eind_datum','stm_mon_eind_tijd','stm_controle_dd','stm_akkoord_mon_toewijz','stm_status_sapnaarmon','stm_fact_jn',\n",
    "'stm_akkoord_melding_jn','stm_afsluit_ddt','stm_afsluit_dd','stm_afsluit_tijd','stm_rec_toegev_ddt','stm_hinderwaarde','stm_actie',\n",
    "'stm_standplaats','stm_status_gebr','stm_wbi_nummer','stm_projnr','stm_historie_toelichting','stm_schade_verhaalb_jn','stm_schadenr',\n",
    "'stm_schade_status_ga','stm_schade_statusdatum','stm_relatiervo_vorig','stm_relatiervo_volgend','stm_relatiervo','stm_afspr_func_hersteldd',\n",
    "'stm_afspr_func_hersteltijd','stm_sorteerveld','stm_rapportage_maand','stm_rapportage_jaar','stm_x_bron_publ_dt','stm_x_bron_bestandsnaam',\n",
    "'stm_x_bron_arch_dt','stm_x_actueel_ind','stm_x_run_id','stm_x_bk','stm_x_start_sessie_dt','stm_x_vervallen_ind']"
   ]
  },
  {
   "cell_type": "code",
   "execution_count": null,
   "metadata": {},
   "outputs": [],
   "source": [
    "df = pd.read_csv('sap_storing_data_hu_project.csv',usecols=usefullcols, low_memory=True)"
   ]
  },
  {
   "cell_type": "code",
   "execution_count": null,
   "metadata": {
    "scrolled": false
   },
   "outputs": [],
   "source": [
    "df"
   ]
  },
  {
   "cell_type": "code",
   "execution_count": null,
   "metadata": {},
   "outputs": [],
   "source": [
    "df.shape"
   ]
  },
  {
   "cell_type": "code",
   "execution_count": null,
   "metadata": {},
   "outputs": [],
   "source": [
    "def initEmpty():\n",
    "    empty = df.isna().sum().to_frame(name='count').reset_index().rename(columns={\"index\":\"colnames\"})\n",
    "    return empty[empty['count'] > 0].sort_values(by='count',ascending=False).reset_index(drop=True)\n",
    "empty = initEmpty()"
   ]
  },
  {
   "cell_type": "code",
   "execution_count": null,
   "metadata": {},
   "outputs": [],
   "source": [
    "f'There are a total of {empty.shape[0]} columns with empty values.'"
   ]
  },
  {
   "cell_type": "markdown",
   "metadata": {},
   "source": [
    "Hier zie je een verloop van alle colomm-id's met alle lege waardes"
   ]
  },
  {
   "cell_type": "code",
   "execution_count": null,
   "metadata": {},
   "outputs": [],
   "source": [
    "empty.reset_index().plot(kind='line', x='index', y='count')"
   ]
  },
  {
   "cell_type": "markdown",
   "metadata": {},
   "source": [
    "Dit zijn de meest betrouwbare colommen, met een leeg waarde van 5%."
   ]
  },
  {
   "cell_type": "code",
   "execution_count": null,
   "metadata": {},
   "outputs": [],
   "source": [
    "# print(f'stm_geo_mld: {int(empty[empty[\"colnames\"] == \"stm_geo_mld\"][\"count\"]) / df.shape[0] * 100}%')\n",
    "# print(f'stm_oorz_code: {int(empty[empty[\"colnames\"] == \"stm_oorz_code\"][\"count\"]) / df.shape[0] * 100}%')\n",
    "# print(f'stm_fh_dd: {int(empty[empty[\"colnames\"] == \"stm_fh_dd\"][\"count\"]) / df.shape[0] * 100}%')\n",
    "# print(f'stm_sap_storeinddatum: {int(empty[empty[\"colnames\"] == \"stm_sap_storeinddatum\"][\"count\"]) / df.shape[0] * 100}%')\n",
    "# print(f'stm_progfh_gw_lwd_datum: {int(empty[empty[\"colnames\"] == \"stm_progfh_gw_lwd_datum\"][\"count\"]) / df.shape[0] * 100}%')\n",
    "\n",
    "# empty['min'] = df[empty['colnames']].min().reset_index(name='min')['min']\n",
    "# empty['max'] = df[empty['colnames']].max().reset_index(name='max')['max']\n",
    "# empty['med'] = df[empty['colnames']].median().reset_index(name='median')['median']\n",
    "# empty['mean'] = df[empty['colnames']].mean().reset_index(name='mean')['mean']\n",
    "# empty['dtype'] = df[empty['colnames']].dtypes.reset_index(name='dtype')['dtype']\n",
    "def showEmpty(_empty):\n",
    "    _empty['perc'] = _empty['count'] / df.shape[0] * 100\n",
    "    print(f'De verhouding afwezige waardes op het totaal')\n",
    "    display(_empty[:37])\n",
    "    display(_empty[37:])\n",
    "showEmpty(empty)"
   ]
  },
  {
   "cell_type": "code",
   "execution_count": null,
   "metadata": {},
   "outputs": [],
   "source": [
    "df.describe()"
   ]
  },
  {
   "cell_type": "markdown",
   "metadata": {},
   "source": [
    "De colommen met index 0 - 29 hebben echt aandacht nodig."
   ]
  },
  {
   "cell_type": "code",
   "execution_count": null,
   "metadata": {},
   "outputs": [],
   "source": [
    "','.join(empty[37:]['colnames'])\n",
    "# '\\',\\''.join(empty['colnames'])"
   ]
  },
  {
   "cell_type": "markdown",
   "metadata": {},
   "source": [
    "Het verschil tussen de melding(\\_mld) colomn en de plaatselijke vastgestelde (\\_gst) waarmeming colomn.<br>\n",
    "Volgens de product owner is de data bijna identiek.<br>\n",
    "Voor het opschonen halen we ook de colom met het minst aantal waardes er uit.\n",
    "\n",
    "Met als eventuele stap mocht er een mismatch in data populatie zijn de colommen samenvoegen."
   ]
  },
  {
   "cell_type": "code",
   "execution_count": null,
   "metadata": {},
   "outputs": [],
   "source": [
    "dubbleCol = ['stm_equipm_omschr_*', 'stm_equipm_soort_*', 'stm_equipm_nr_*', \n",
    "             'stm_geo_*_uit_functiepl', 'stm_functiepl_*', 'stm_geo_*',\n",
    "            'stm_km_van_*','stm_km_tot_*',\n",
    "            'stm_contractgeb_*','stm_techn_*']\n",
    "original = 'mld'\n",
    "optional = ['gst'] # Order of least to most important\n",
    "for colPH in dubbleCol:\n",
    "    colOg = colPH.replace('*',original)\n",
    "    \n",
    "    for option in optional:\n",
    "        colOp = colPH.replace('*',option)\n",
    "        df[colPH] = np.where(df[colOp].isna(), df[colOg], df[colOp])\n",
    "        df.drop(columns=[colOp],inplace=True)\n",
    "    df.drop(columns=[colOg],inplace=True)"
   ]
  },
  {
   "cell_type": "code",
   "execution_count": null,
   "metadata": {},
   "outputs": [],
   "source": [
    "display(df)\n",
    "df.shape"
   ]
  },
  {
   "cell_type": "markdown",
   "metadata": {},
   "source": [
    "Nu moeten we beslissen welke colommen echt noodzakelijk zijn en waar we niet zonder kunnen (feature colommen), dus wanneer er lege waardes in een rij staan we echt die rij moeten verwijderen.<br>\n",
    "`stm_sap_meld_ddt(stm_sap_melddatum/stm_sap_meldtijd), stm_fh_tijd, stm_sap_storeind_ddt`<br>\n",
    "En wat zijn interessante colommen waar we geen lege waardes willen maar een empty placeholder zodat we de feature kunnen blijven gebruiken. `stm_prioriteit, stm_oorz_code, stm_fh_status, stm_progfh_in_invoer_tijd, stm_progfh_in_tijd`"
   ]
  },
  {
   "cell_type": "code",
   "execution_count": null,
   "metadata": {},
   "outputs": [],
   "source": [
    "showEmpty(initEmpty())"
   ]
  },
  {
   "cell_type": "code",
   "execution_count": null,
   "metadata": {},
   "outputs": [],
   "source": [
    "toDrop = ['stm_sap_meld_ddt','stm_sap_melddatum','stm_sap_meldtijd',\n",
    "         'stm_fh_tijd','stm_sap_storeindtijd']\n",
    "df.dropna(subset=toDrop,inplace=True)\n",
    "df.shape"
   ]
  },
  {
   "cell_type": "code",
   "execution_count": null,
   "metadata": {},
   "outputs": [],
   "source": [
    "showEmpty(initEmpty())"
   ]
  },
  {
   "cell_type": "code",
   "execution_count": null,
   "metadata": {},
   "outputs": [],
   "source": [
    "df['stm_prioriteit'] = df['stm_prioriteit'].fillna(1) # Laagste prio\n",
    "df['stm_oorz_code'] = df['stm_oorz_code'].fillna(299) # 'Niet gemeld' code\n",
    "df['stm_fh_status'] = df['stm_fh_status'].fillna(1) # Median of values\n",
    "df['stm_aanngeb_tijd'] = df['stm_aanngeb_tijd'].fillna(df['stm_sap_meldtijd']) # Aannemer beltijd gelijk met melding zetten.\n",
    "df['stm_progfh_in_invoer_tijd'] = df['stm_progfh_in_invoer_tijd'].fillna(df['stm_aanngeb_tijd']) # Tijd van prognose op beltijd zetten.\n",
    "df['stm_equipm_nr_*'] = df['stm_equipm_nr_*'].fillna(0)\n",
    "df['stm_contractgeb_*'] = df['stm_contractgeb_*'].fillna(0)"
   ]
  },
  {
   "cell_type": "code",
   "execution_count": null,
   "metadata": {},
   "outputs": [],
   "source": [
    "showEmpty(initEmpty())"
   ]
  },
  {
   "cell_type": "markdown",
   "metadata": {},
   "source": [
    "Waardes die duidelijk een int zijn van float terughalen naar een int."
   ]
  },
  {
   "cell_type": "code",
   "execution_count": null,
   "metadata": {},
   "outputs": [],
   "source": [
    "df['stm_prioriteit'] = df['stm_prioriteit'].astype(int)\n",
    "df['stm_oorz_code'] = df['stm_oorz_code'].astype(int)\n",
    "df['stm_fh_status'] = df['stm_fh_status'].astype(int)\n",
    "df['stm_progfh_gw_teller'] = df['stm_progfh_gw_teller'].astype(int)\n",
    "df['stm_equipm_nr_*'] = df['stm_equipm_nr_*'].astype(int)\n",
    "df['stm_contractgeb_*'] = df['stm_contractgeb_*'].astype(int)\n",
    "\n",
    "df['stm_sap_meld_ddt'] = pd.to_datetime(df['stm_sap_meld_ddt'], format='%d/%m/%Y %H:%M:%S')\n",
    "df['stm_sap_storeind_ddt'] = pd.to_datetime(df['stm_sap_storeind_ddt'], format='%d/%m/%Y %H:%M:%S')"
   ]
  },
  {
   "cell_type": "code",
   "execution_count": null,
   "metadata": {},
   "outputs": [],
   "source": [
    "df[df['stm_sap_meldtijd'] == '::']['stm_sap_meldtijd'].count()"
   ]
  },
  {
   "cell_type": "code",
   "execution_count": null,
   "metadata": {},
   "outputs": [],
   "source": [
    "df.drop(df[df['stm_sap_storeind_ddt'] >= date.today()][['stm_sap_storeind_ddt','stm_sap_meld_ddt']].index,inplace=True)"
   ]
  }
 ],
 "metadata": {
  "kernelspec": {
   "display_name": "Python 3.8.3 64-bit",
   "language": "python",
   "name": "python38364bit5cdb2531dd3545ea9b3fd1a8a995abfc"
  },
  "language_info": {
   "codemirror_mode": {
    "name": "ipython",
    "version": 3
   },
   "file_extension": ".py",
   "mimetype": "text/x-python",
   "name": "python",
   "nbconvert_exporter": "python",
   "pygments_lexer": "ipython3",
   "version": "3.8.3"
  }
 },
 "nbformat": 4,
 "nbformat_minor": 2
}
