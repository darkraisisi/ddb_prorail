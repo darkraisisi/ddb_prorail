{
 "cells": [
  {
   "cell_type": "code",
   "execution_count": 1,
   "metadata": {},
   "outputs": [],
   "source": [
    "import numpy as np\n",
    "import pandas as pd\n",
    "import seaborn as sns"
   ]
  },
  {
   "cell_type": "code",
   "execution_count": 2,
   "metadata": {},
   "outputs": [],
   "source": [
    "usefullcols = ['stm_mon_nr','stm_sap_meld_ddt','stm_status_melding_sap','stm_km_van_mld','stm_km_tot_mld','stm_km_van_gst',\n",
    "               'stm_km_tot_gst','stm_fh_tijd','stm_sap_melddatum','stm_aanngeb_tijd','stm_aanntpl_tijd','stm_arbeid',\n",
    "               'stm_progfh_in_tijd','stm_progfh_in_invoer_tijd','stm_progfh_in_duur','stm_sap_storeindtijd','stm_progfh_gw_tijd',\n",
    "               'stm_reactie_duur','stm_progfh_gw_duur','stm_progfh_gw_teller','stm_afspr_aanvangdd','stm_afspr_aanvangtijd',\n",
    "               'stm_fh_duur','stm_evb','stm_sap_meldtijd','stm_sap_meldtekst_lang','stm_prioriteit','stm_oh_pg_gst',\n",
    "               'stm_sap_meldtekst','stm_techn_gst','stm_contractgeb_gst','stm_tao_indicator','stm_geo_mld','stm_functiepl_mld',\n",
    "               'stm_geo_mld_uit_functiepl','stm_aanngeb_ddt','stm_aanngeb_dd','stm_oorz_code','stm_oorz_groep','stm_oorz_tkst',\n",
    "               'stm_fh_dd','stm_fh_status','stm_geo_gst','stm_functiepl_gst','stm_geo_gst_uit_functiepl','stm_fh_ddt',\n",
    "               'stm_aanntpl_dd','stm_techn_mld','stm_sap_storeinddatum','stm_equipm_nr_mld','stm_equipm_soort_mld',\n",
    "               'stm_equipm_omschr_mld','stm_sap_storeind_ddt','stm_contractgeb_mld','stm_equipm_nr_gst','stm_equipm_soort_gst',\n",
    "               'stm_equipm_omschr_gst','stm_progfh_in_invoer_dat','stm_progfh_in_datum','stm_oorz_tekst_kort','stm_dstrglp_naar',\n",
    "               'stm_tao_indicator_vorige','stm_vl_post','stm_dstrglp_van','stm_pplg_van','stm_tao_soort_mutatie',\n",
    "               'stm_progfh_gw_lwd_tijd','stm_pplg_naar','stm_progfh_gw_lwd_datum']\n",
    "\n",
    "nvt = ['stm_sap_mon_meld_ddt','stm_mon_begin_ddt','stm_mon_toelichting_trdl','stm_oh_pg_mld','stm_scenario_mon','stm_mon_nr_status_omschr',\n",
    "       'stm_mon_nr__statuscode','stm_mon_nr_status_wijzdd','stm_aanntpl_ddt','stm_objectdl_code_gst','stm_objectdl_groep_gst',\n",
    "       'stm_progfh_in_ddt','stm_progfh_in_invoer_ddt','stm_progfh_gw_ddt','stm_progfh_gw_lwd_ddt','stm_progfh_hz','stm_veroorz_groep',\n",
    "       'stm_veroorz_code','stm_veroorz_tekst_kort','stm_effect','stm_afspr_aanvangddt','stm_mon_eind_ddt','stm_mon_vhdsincident',\n",
    "       'stm_dir_betrok_tr','stm_aangelegd_dd','stm_aangelegd_tijd','stm_mon_begindatum','stm_mon_begintijd','stm_progfh_gw_datum',\n",
    "       'stm_mon_eind_datum','stm_mon_eind_tijd','stm_controle_dd','stm_akkoord_mon_toewijz','stm_status_sapnaarmon','stm_fact_jn',\n",
    "'stm_akkoord_melding_jn','stm_afsluit_ddt','stm_afsluit_dd','stm_afsluit_tijd','stm_rec_toegev_ddt','stm_hinderwaarde','stm_actie',\n",
    "'stm_standplaats','stm_status_gebr','stm_wbi_nummer','stm_projnr','stm_historie_toelichting','stm_schade_verhaalb_jn','stm_schadenr',\n",
    "'stm_schade_status_ga','stm_schade_statusdatum','stm_relatiervo_vorig','stm_relatiervo_volgend','stm_relatiervo','stm_afspr_func_hersteldd',\n",
    "'stm_afspr_func_hersteltijd','stm_sorteerveld','stm_rapportage_maand','stm_rapportage_jaar','stm_x_bron_publ_dt','stm_x_bron_bestandsnaam',\n",
    "'stm_x_bron_arch_dt','stm_x_actueel_ind','stm_x_run_id','stm_x_bk','stm_x_start_sessie_dt','stm_x_vervallen_ind']\n",
    "# df = df.drop(nvt,axis=1)"
   ]
  },
  {
   "cell_type": "code",
   "execution_count": 3,
   "metadata": {},
   "outputs": [
    {
     "name": "stderr",
     "output_type": "stream",
     "text": [
      "C:\\Python383\\lib\\site-packages\\IPython\\core\\interactiveshell.py:3062: DtypeWarning: Columns (11,24,27,49,51,55,56,73,75,78,80,82,86,87,91,95,123,124) have mixed types.Specify dtype option on import or set low_memory=False.\n",
      "  has_raised = await self.run_ast_nodes(code_ast.body, cell_name,\n"
     ]
    }
   ],
   "source": [
    "df = pd.read_csv('sap_storing_data_hu_project.csv',usecols=usefullcols, low_memory=True)"
   ]
  },
  {
   "cell_type": "code",
   "execution_count": 4,
   "metadata": {
    "scrolled": true
   },
   "outputs": [
    {
     "data": {
      "text/html": [
       "<div>\n",
       "<style scoped>\n",
       "    .dataframe tbody tr th:only-of-type {\n",
       "        vertical-align: middle;\n",
       "    }\n",
       "\n",
       "    .dataframe tbody tr th {\n",
       "        vertical-align: top;\n",
       "    }\n",
       "\n",
       "    .dataframe thead th {\n",
       "        text-align: right;\n",
       "    }\n",
       "</style>\n",
       "<table border=\"1\" class=\"dataframe\">\n",
       "  <thead>\n",
       "    <tr style=\"text-align: right;\">\n",
       "      <th></th>\n",
       "      <th>stm_mon_nr</th>\n",
       "      <th>stm_vl_post</th>\n",
       "      <th>stm_sap_meld_ddt</th>\n",
       "      <th>stm_sap_meldtekst_lang</th>\n",
       "      <th>stm_sap_meldtekst</th>\n",
       "      <th>stm_geo_mld</th>\n",
       "      <th>stm_geo_mld_uit_functiepl</th>\n",
       "      <th>stm_equipm_nr_mld</th>\n",
       "      <th>stm_equipm_soort_mld</th>\n",
       "      <th>stm_equipm_omschr_mld</th>\n",
       "      <th>...</th>\n",
       "      <th>stm_fh_tijd</th>\n",
       "      <th>stm_fh_duur</th>\n",
       "      <th>stm_reactie_duur</th>\n",
       "      <th>stm_sap_storeinddatum</th>\n",
       "      <th>stm_sap_storeindtijd</th>\n",
       "      <th>stm_oorz_tekst_kort</th>\n",
       "      <th>stm_pplg_van</th>\n",
       "      <th>stm_pplg_naar</th>\n",
       "      <th>stm_dstrglp_van</th>\n",
       "      <th>stm_dstrglp_naar</th>\n",
       "    </tr>\n",
       "  </thead>\n",
       "  <tbody>\n",
       "    <tr>\n",
       "      <th>0</th>\n",
       "      <td>NaN</td>\n",
       "      <td>NaN</td>\n",
       "      <td>NaN</td>\n",
       "      <td>NaN</td>\n",
       "      <td>NaN</td>\n",
       "      <td>NaN</td>\n",
       "      <td>NaN</td>\n",
       "      <td>NaN</td>\n",
       "      <td>NaN</td>\n",
       "      <td>NaN</td>\n",
       "      <td>...</td>\n",
       "      <td>NaN</td>\n",
       "      <td>NaN</td>\n",
       "      <td>NaN</td>\n",
       "      <td>NaN</td>\n",
       "      <td>NaN</td>\n",
       "      <td>NaN</td>\n",
       "      <td>NaN</td>\n",
       "      <td>NaN</td>\n",
       "      <td>NaN</td>\n",
       "      <td>NaN</td>\n",
       "    </tr>\n",
       "    <tr>\n",
       "      <th>1</th>\n",
       "      <td>0.0</td>\n",
       "      <td>NaN</td>\n",
       "      <td>02/01/2006 09:00:00</td>\n",
       "      <td>Logboeknr  Geeltje  :   49 Tijd: 0900   VL-Po...</td>\n",
       "      <td>Logboeknr  Geeltje  :   49 Tijd: 0900</td>\n",
       "      <td>624</td>\n",
       "      <td>624.0</td>\n",
       "      <td>NaN</td>\n",
       "      <td>NaN</td>\n",
       "      <td>NaN</td>\n",
       "      <td>...</td>\n",
       "      <td>09:00:00</td>\n",
       "      <td>0.0</td>\n",
       "      <td>99999999.0</td>\n",
       "      <td>02/01/2006</td>\n",
       "      <td>09:00:00</td>\n",
       "      <td>NaN</td>\n",
       "      <td>NaN</td>\n",
       "      <td>NaN</td>\n",
       "      <td>NaN</td>\n",
       "      <td>NaN</td>\n",
       "    </tr>\n",
       "    <tr>\n",
       "      <th>2</th>\n",
       "      <td>48.0</td>\n",
       "      <td>GN</td>\n",
       "      <td>02/01/2006 12:35:00</td>\n",
       "      <td>Logboeknr  RBV  :   48 Tijd: 1235   VL-Post: ...</td>\n",
       "      <td>Logboeknr  RBV  :   48 Tijd: 1235   VL-P</td>\n",
       "      <td>201</td>\n",
       "      <td>201.0</td>\n",
       "      <td>NaN</td>\n",
       "      <td>NaN</td>\n",
       "      <td>NaN</td>\n",
       "      <td>...</td>\n",
       "      <td>13:26:00</td>\n",
       "      <td>51.0</td>\n",
       "      <td>99999999.0</td>\n",
       "      <td>02/01/2006</td>\n",
       "      <td>13:26:00</td>\n",
       "      <td>schapen op de spoorbaan!</td>\n",
       "      <td>NaN</td>\n",
       "      <td>NaN</td>\n",
       "      <td>Lp</td>\n",
       "      <td>Apg</td>\n",
       "    </tr>\n",
       "    <tr>\n",
       "      <th>3</th>\n",
       "      <td>72.0</td>\n",
       "      <td>ZL</td>\n",
       "      <td>02/01/2006 16:40:00</td>\n",
       "      <td>Logboeknr  RBV  :   72 Tijd: 1640   VL-Post: ...</td>\n",
       "      <td>Logboeknr  RBV  :   72 Tijd: 1640   VL-P</td>\n",
       "      <td>25</td>\n",
       "      <td>25.0</td>\n",
       "      <td>NaN</td>\n",
       "      <td>NaN</td>\n",
       "      <td>NaN</td>\n",
       "      <td>...</td>\n",
       "      <td>17:20:00</td>\n",
       "      <td>40.0</td>\n",
       "      <td>99999999.0</td>\n",
       "      <td>02/01/2006</td>\n",
       "      <td>17:20:00</td>\n",
       "      <td>Persoon langs de baan</td>\n",
       "      <td>NaN</td>\n",
       "      <td>NaN</td>\n",
       "      <td>Hgl</td>\n",
       "      <td>NaN</td>\n",
       "    </tr>\n",
       "    <tr>\n",
       "      <th>4</th>\n",
       "      <td>96.0</td>\n",
       "      <td>ZL</td>\n",
       "      <td>02/01/2006 22:30:00</td>\n",
       "      <td>Logboeknr  RBV  :   96 Tijd: 2230   VL-Post: ...</td>\n",
       "      <td>Logboeknr  RBV  :   96 Tijd: 2230   VL-P</td>\n",
       "      <td>12</td>\n",
       "      <td>12.0</td>\n",
       "      <td>NaN</td>\n",
       "      <td>NaN</td>\n",
       "      <td>NaN</td>\n",
       "      <td>...</td>\n",
       "      <td>22:36:00</td>\n",
       "      <td>6.0</td>\n",
       "      <td>99999999.0</td>\n",
       "      <td>02/01/2006</td>\n",
       "      <td>22:36:00</td>\n",
       "      <td>Bijna aanrijding met persoon</td>\n",
       "      <td>NaN</td>\n",
       "      <td>NaN</td>\n",
       "      <td>Hgv</td>\n",
       "      <td>NaN</td>\n",
       "    </tr>\n",
       "  </tbody>\n",
       "</table>\n",
       "<p>5 rows × 69 columns</p>\n",
       "</div>"
      ],
      "text/plain": [
       "   stm_mon_nr stm_vl_post     stm_sap_meld_ddt  \\\n",
       "0         NaN         NaN                  NaN   \n",
       "1         0.0         NaN  02/01/2006 09:00:00   \n",
       "2        48.0          GN  02/01/2006 12:35:00   \n",
       "3        72.0          ZL  02/01/2006 16:40:00   \n",
       "4        96.0          ZL  02/01/2006 22:30:00   \n",
       "\n",
       "                              stm_sap_meldtekst_lang  \\\n",
       "0                                                NaN   \n",
       "1   Logboeknr  Geeltje  :   49 Tijd: 0900   VL-Po...   \n",
       "2   Logboeknr  RBV  :   48 Tijd: 1235   VL-Post: ...   \n",
       "3   Logboeknr  RBV  :   72 Tijd: 1640   VL-Post: ...   \n",
       "4   Logboeknr  RBV  :   96 Tijd: 2230   VL-Post: ...   \n",
       "\n",
       "                          stm_sap_meldtekst stm_geo_mld  \\\n",
       "0                                       NaN         NaN   \n",
       "1     Logboeknr  Geeltje  :   49 Tijd: 0900         624   \n",
       "2  Logboeknr  RBV  :   48 Tijd: 1235   VL-P         201   \n",
       "3  Logboeknr  RBV  :   72 Tijd: 1640   VL-P          25   \n",
       "4  Logboeknr  RBV  :   96 Tijd: 2230   VL-P          12   \n",
       "\n",
       "   stm_geo_mld_uit_functiepl  stm_equipm_nr_mld stm_equipm_soort_mld  \\\n",
       "0                        NaN                NaN                  NaN   \n",
       "1                      624.0                NaN                  NaN   \n",
       "2                      201.0                NaN                  NaN   \n",
       "3                       25.0                NaN                  NaN   \n",
       "4                       12.0                NaN                  NaN   \n",
       "\n",
       "  stm_equipm_omschr_mld  ...  stm_fh_tijd  stm_fh_duur  stm_reactie_duur  \\\n",
       "0                   NaN  ...          NaN          NaN               NaN   \n",
       "1                   NaN  ...     09:00:00          0.0        99999999.0   \n",
       "2                   NaN  ...     13:26:00         51.0        99999999.0   \n",
       "3                   NaN  ...     17:20:00         40.0        99999999.0   \n",
       "4                   NaN  ...     22:36:00          6.0        99999999.0   \n",
       "\n",
       "  stm_sap_storeinddatum stm_sap_storeindtijd            stm_oorz_tekst_kort  \\\n",
       "0                   NaN                  NaN                            NaN   \n",
       "1            02/01/2006             09:00:00                            NaN   \n",
       "2            02/01/2006             13:26:00       schapen op de spoorbaan!   \n",
       "3            02/01/2006             17:20:00          Persoon langs de baan   \n",
       "4            02/01/2006             22:36:00   Bijna aanrijding met persoon   \n",
       "\n",
       "  stm_pplg_van  stm_pplg_naar  stm_dstrglp_van stm_dstrglp_naar  \n",
       "0          NaN            NaN              NaN              NaN  \n",
       "1          NaN            NaN              NaN              NaN  \n",
       "2          NaN            NaN               Lp              Apg  \n",
       "3          NaN            NaN              Hgl              NaN  \n",
       "4          NaN            NaN              Hgv              NaN  \n",
       "\n",
       "[5 rows x 69 columns]"
      ]
     },
     "execution_count": 4,
     "metadata": {},
     "output_type": "execute_result"
    }
   ],
   "source": [
    "df.head()"
   ]
  },
  {
   "cell_type": "code",
   "execution_count": 5,
   "metadata": {},
   "outputs": [
    {
     "data": {
      "text/plain": [
       "(898526, 69)"
      ]
     },
     "execution_count": 5,
     "metadata": {},
     "output_type": "execute_result"
    }
   ],
   "source": [
    "df.shape "
   ]
  },
  {
   "cell_type": "code",
   "execution_count": 13,
   "metadata": {},
   "outputs": [],
   "source": [
    "empty = df.isna().sum().to_frame(name='count').reset_index().rename(columns={\"index\":\"colnames\"})\n",
    "empty = empty[empty['count'] > 0].sort_values(by='count',ascending=False).reset_index(drop=True)"
   ]
  },
  {
   "cell_type": "code",
   "execution_count": 14,
   "metadata": {},
   "outputs": [
    {
     "data": {
      "text/plain": [
       "'There are a total of 69 columns with empty values.'"
      ]
     },
     "execution_count": 14,
     "metadata": {},
     "output_type": "execute_result"
    }
   ],
   "source": [
    "f'There are a total of {empty.shape[0]} columns with empty values.'"
   ]
  },
  {
   "cell_type": "markdown",
   "metadata": {},
   "source": [
    "Hier zie je een verloop van alle colomm-id's met alle lege waardes"
   ]
  },
  {
   "cell_type": "code",
   "execution_count": 15,
   "metadata": {},
   "outputs": [
    {
     "data": {
      "text/plain": [
       "<matplotlib.axes._subplots.AxesSubplot at 0x1afb1c06850>"
      ]
     },
     "execution_count": 15,
     "metadata": {},
     "output_type": "execute_result"
    },
    {
     "data": {
      "image/png": "[encoded data removed]",
      "text/plain": [
       "<Figure size 432x288 with 1 Axes>"
      ]
     },
     "metadata": {
      "needs_background": "light"
     },
     "output_type": "display_data"
    }
   ],
   "source": [
    "empty.reset_index().plot(kind='line', x='index', y='count')"
   ]
  },
  {
   "cell_type": "markdown",
   "metadata": {},
   "source": [
    "Dit zijn de meest betrouwbare colommen, met een leeg waarde van 5%."
   ]
  },
  {
   "cell_type": "code",
   "execution_count": 21,
   "metadata": {},
   "outputs": [
    {
     "name": "stdout",
     "output_type": "stream",
     "text": [
      "De verhouding lege waardes op het totaal\n",
      "stm_geo_mld: 1.3169346240398163%\n",
      "stm_oorz_code: 5.944513570002426%\n",
      "stm_progfh_gw_lwd_datum: 99.44219755466175%\n"
     ]
    },
    {
     "data": {
      "text/html": [
       "<div>\n",
       "<style scoped>\n",
       "    .dataframe tbody tr th:only-of-type {\n",
       "        vertical-align: middle;\n",
       "    }\n",
       "\n",
       "    .dataframe tbody tr th {\n",
       "        vertical-align: top;\n",
       "    }\n",
       "\n",
       "    .dataframe thead th {\n",
       "        text-align: right;\n",
       "    }\n",
       "</style>\n",
       "<table border=\"1\" class=\"dataframe\">\n",
       "  <thead>\n",
       "    <tr style=\"text-align: right;\">\n",
       "      <th></th>\n",
       "      <th>colnames</th>\n",
       "      <th>count</th>\n",
       "    </tr>\n",
       "  </thead>\n",
       "  <tbody>\n",
       "    <tr>\n",
       "      <th>0</th>\n",
       "      <td>stm_progfh_gw_lwd_datum</td>\n",
       "      <td>893514</td>\n",
       "    </tr>\n",
       "    <tr>\n",
       "      <th>1</th>\n",
       "      <td>stm_pplg_naar</td>\n",
       "      <td>838138</td>\n",
       "    </tr>\n",
       "    <tr>\n",
       "      <th>2</th>\n",
       "      <td>stm_progfh_gw_lwd_tijd</td>\n",
       "      <td>831834</td>\n",
       "    </tr>\n",
       "    <tr>\n",
       "      <th>3</th>\n",
       "      <td>stm_tao_soort_mutatie</td>\n",
       "      <td>644026</td>\n",
       "    </tr>\n",
       "    <tr>\n",
       "      <th>4</th>\n",
       "      <td>stm_pplg_van</td>\n",
       "      <td>643777</td>\n",
       "    </tr>\n",
       "    <tr>\n",
       "      <th>5</th>\n",
       "      <td>stm_dstrglp_van</td>\n",
       "      <td>589042</td>\n",
       "    </tr>\n",
       "    <tr>\n",
       "      <th>6</th>\n",
       "      <td>stm_vl_post</td>\n",
       "      <td>588027</td>\n",
       "    </tr>\n",
       "    <tr>\n",
       "      <th>7</th>\n",
       "      <td>stm_tao_indicator_vorige</td>\n",
       "      <td>568685</td>\n",
       "    </tr>\n",
       "    <tr>\n",
       "      <th>8</th>\n",
       "      <td>stm_dstrglp_naar</td>\n",
       "      <td>532766</td>\n",
       "    </tr>\n",
       "    <tr>\n",
       "      <th>9</th>\n",
       "      <td>stm_oorz_tekst_kort</td>\n",
       "      <td>509896</td>\n",
       "    </tr>\n",
       "    <tr>\n",
       "      <th>10</th>\n",
       "      <td>stm_progfh_in_datum</td>\n",
       "      <td>321276</td>\n",
       "    </tr>\n",
       "    <tr>\n",
       "      <th>11</th>\n",
       "      <td>stm_progfh_in_invoer_dat</td>\n",
       "      <td>320809</td>\n",
       "    </tr>\n",
       "    <tr>\n",
       "      <th>12</th>\n",
       "      <td>stm_equipm_omschr_gst</td>\n",
       "      <td>292816</td>\n",
       "    </tr>\n",
       "    <tr>\n",
       "      <th>13</th>\n",
       "      <td>stm_equipm_soort_gst</td>\n",
       "      <td>292815</td>\n",
       "    </tr>\n",
       "    <tr>\n",
       "      <th>14</th>\n",
       "      <td>stm_equipm_nr_gst</td>\n",
       "      <td>292805</td>\n",
       "    </tr>\n",
       "    <tr>\n",
       "      <th>15</th>\n",
       "      <td>stm_contractgeb_mld</td>\n",
       "      <td>237509</td>\n",
       "    </tr>\n",
       "    <tr>\n",
       "      <th>16</th>\n",
       "      <td>stm_sap_storeind_ddt</td>\n",
       "      <td>237431</td>\n",
       "    </tr>\n",
       "    <tr>\n",
       "      <th>17</th>\n",
       "      <td>stm_equipm_omschr_mld</td>\n",
       "      <td>237408</td>\n",
       "    </tr>\n",
       "    <tr>\n",
       "      <th>18</th>\n",
       "      <td>stm_equipm_soort_mld</td>\n",
       "      <td>237403</td>\n",
       "    </tr>\n",
       "    <tr>\n",
       "      <th>19</th>\n",
       "      <td>stm_equipm_nr_mld</td>\n",
       "      <td>237400</td>\n",
       "    </tr>\n",
       "    <tr>\n",
       "      <th>20</th>\n",
       "      <td>stm_sap_storeinddatum</td>\n",
       "      <td>237359</td>\n",
       "    </tr>\n",
       "    <tr>\n",
       "      <th>21</th>\n",
       "      <td>stm_techn_mld</td>\n",
       "      <td>234127</td>\n",
       "    </tr>\n",
       "    <tr>\n",
       "      <th>22</th>\n",
       "      <td>stm_aanntpl_dd</td>\n",
       "      <td>208611</td>\n",
       "    </tr>\n",
       "    <tr>\n",
       "      <th>23</th>\n",
       "      <td>stm_fh_ddt</td>\n",
       "      <td>165635</td>\n",
       "    </tr>\n",
       "    <tr>\n",
       "      <th>24</th>\n",
       "      <td>stm_geo_gst_uit_functiepl</td>\n",
       "      <td>156958</td>\n",
       "    </tr>\n",
       "    <tr>\n",
       "      <th>25</th>\n",
       "      <td>stm_functiepl_gst</td>\n",
       "      <td>156232</td>\n",
       "    </tr>\n",
       "    <tr>\n",
       "      <th>26</th>\n",
       "      <td>stm_geo_gst</td>\n",
       "      <td>156202</td>\n",
       "    </tr>\n",
       "    <tr>\n",
       "      <th>27</th>\n",
       "      <td>stm_fh_status</td>\n",
       "      <td>151208</td>\n",
       "    </tr>\n",
       "    <tr>\n",
       "      <th>28</th>\n",
       "      <td>stm_fh_dd</td>\n",
       "      <td>127267</td>\n",
       "    </tr>\n",
       "    <tr>\n",
       "      <th>29</th>\n",
       "      <td>stm_oorz_tkst</td>\n",
       "      <td>102475</td>\n",
       "    </tr>\n",
       "  </tbody>\n",
       "</table>\n",
       "</div>"
      ],
      "text/plain": [
       "                     colnames   count\n",
       "0     stm_progfh_gw_lwd_datum  893514\n",
       "1               stm_pplg_naar  838138\n",
       "2      stm_progfh_gw_lwd_tijd  831834\n",
       "3       stm_tao_soort_mutatie  644026\n",
       "4                stm_pplg_van  643777\n",
       "5             stm_dstrglp_van  589042\n",
       "6                 stm_vl_post  588027\n",
       "7    stm_tao_indicator_vorige  568685\n",
       "8            stm_dstrglp_naar  532766\n",
       "9         stm_oorz_tekst_kort  509896\n",
       "10        stm_progfh_in_datum  321276\n",
       "11   stm_progfh_in_invoer_dat  320809\n",
       "12      stm_equipm_omschr_gst  292816\n",
       "13       stm_equipm_soort_gst  292815\n",
       "14          stm_equipm_nr_gst  292805\n",
       "15        stm_contractgeb_mld  237509\n",
       "16       stm_sap_storeind_ddt  237431\n",
       "17      stm_equipm_omschr_mld  237408\n",
       "18       stm_equipm_soort_mld  237403\n",
       "19          stm_equipm_nr_mld  237400\n",
       "20      stm_sap_storeinddatum  237359\n",
       "21              stm_techn_mld  234127\n",
       "22             stm_aanntpl_dd  208611\n",
       "23                 stm_fh_ddt  165635\n",
       "24  stm_geo_gst_uit_functiepl  156958\n",
       "25          stm_functiepl_gst  156232\n",
       "26                stm_geo_gst  156202\n",
       "27              stm_fh_status  151208\n",
       "28                  stm_fh_dd  127267\n",
       "29              stm_oorz_tkst  102475"
      ]
     },
     "execution_count": 21,
     "metadata": {},
     "output_type": "execute_result"
    }
   ],
   "source": [
    "print(f'De verhouding lege waardes op het totaal')\n",
    "print(f'stm_geo_mld: {int(empty[empty[\"colnames\"] == \"stm_geo_mld\"][\"count\"]) / df.shape[0] * 100}%')\n",
    "print(f'stm_oorz_code: {int(empty[empty[\"colnames\"] == \"stm_oorz_code\"][\"count\"]) / df.shape[0] * 100}%')\n",
    "print(f'stm_progfh_gw_lwd_datum: {int(empty[empty[\"colnames\"] == \"stm_progfh_gw_lwd_datum\"][\"count\"]) / df.shape[0] * 100}%')\n",
    "empty[:30]"
   ]
  },
  {
   "cell_type": "code",
   "execution_count": 10,
   "metadata": {},
   "outputs": [
    {
     "data": {
      "text/plain": [
       "'stm_fh_ddt,stm_aanntpl_dd,stm_techn_mld,stm_sap_storeinddatum,stm_equipm_nr_mld,stm_equipm_soort_mld,stm_equipm_omschr_mld,stm_sap_storeind_ddt,stm_contractgeb_mld,stm_equipm_nr_gst,stm_equipm_soort_gst,stm_equipm_omschr_gst,stm_progfh_in_invoer_dat,stm_progfh_in_datum,stm_oorz_tekst_kort,stm_dstrglp_naar,stm_tao_indicator_vorige,stm_vl_post,stm_dstrglp_van,stm_pplg_van,stm_tao_soort_mutatie,stm_progfh_gw_lwd_tijd,stm_pplg_naar,stm_progfh_gw_lwd_datum'"
      ]
     },
     "execution_count": 10,
     "metadata": {},
     "output_type": "execute_result"
    }
   ],
   "source": [
    "','.join(empty[45:]['colnames'])"
   ]
  },
  {
   "cell_type": "code",
   "execution_count": 11,
   "metadata": {},
   "outputs": [
    {
     "data": {
      "text/plain": [
       "\"stm_mon_nr','stm_sap_meld_ddt','stm_status_melding_sap','stm_km_van_mld','stm_km_tot_mld','stm_km_van_gst','stm_km_tot_gst','stm_fh_tijd','stm_sap_melddatum','stm_aanngeb_tijd','stm_aanntpl_tijd','stm_arbeid','stm_progfh_in_tijd','stm_progfh_in_invoer_tijd','stm_progfh_in_duur','stm_sap_storeindtijd','stm_progfh_gw_tijd','stm_reactie_duur','stm_progfh_gw_duur','stm_progfh_gw_teller','stm_afspr_aanvangdd','stm_afspr_aanvangtijd','stm_fh_duur','stm_evb','stm_sap_meldtijd','stm_sap_meldtekst_lang','stm_prioriteit','stm_oh_pg_gst','stm_sap_meldtekst','stm_techn_gst','stm_contractgeb_gst','stm_tao_indicator','stm_geo_mld','stm_functiepl_mld','stm_geo_mld_uit_functiepl','stm_aanngeb_ddt','stm_aanngeb_dd','stm_oorz_code','stm_oorz_groep','stm_oorz_tkst','stm_fh_dd','stm_fh_status','stm_geo_gst','stm_functiepl_gst','stm_geo_gst_uit_functiepl','stm_fh_ddt','stm_aanntpl_dd','stm_techn_mld','stm_sap_storeinddatum','stm_equipm_nr_mld','stm_equipm_soort_mld','stm_equipm_omschr_mld','stm_sap_storeind_ddt','stm_contractgeb_mld','stm_equipm_nr_gst','stm_equipm_soort_gst','stm_equipm_omschr_gst','stm_progfh_in_invoer_dat','stm_progfh_in_datum','stm_oorz_tekst_kort','stm_dstrglp_naar','stm_tao_indicator_vorige','stm_vl_post','stm_dstrglp_van','stm_pplg_van','stm_tao_soort_mutatie','stm_progfh_gw_lwd_tijd','stm_pplg_naar','stm_progfh_gw_lwd_datum\""
      ]
     },
     "execution_count": 11,
     "metadata": {},
     "output_type": "execute_result"
    }
   ],
   "source": [
    "'\\',\\''.join(empty['colnames'])"
   ]
  }
 ],
 "metadata": {
  "kernelspec": {
   "display_name": "Python 3.8.3 64-bit",
   "language": "python",
   "name": "python38364bit5cdb2531dd3545ea9b3fd1a8a995abfc"
  },
  "language_info": {
   "codemirror_mode": {
    "name": "ipython",
    "version": 3
   },
   "file_extension": ".py",
   "mimetype": "text/x-python",
   "name": "python",
   "nbconvert_exporter": "python",
   "pygments_lexer": "ipython3",
   "version": "3.8.3"
  }
 },
 "nbformat": 4,
 "nbformat_minor": 2
}
