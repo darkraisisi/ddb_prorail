{
 "cells": [
  {
   "cell_type": "markdown",
   "metadata": {},
   "source": [
    "Er zijn veel partijen betrokken vanaf het moment dat er een melding wordt gedaan tot aan het moment dat de dienstregeling weer hervat kan worden. \n",
    "\n",
    "Uit het huidge proces kunnen we de volgende stakeholders onderscheiden: ProRail, machinisten, meldkamer, treindienstleiders, aannemers, de incidentenbestrijding, treinplanners van de NS en de treinreizigers.\n",
    "\n",
    "We moeten gaan bepalen voor welke stakeholders we de applicatie gaan ontwikkelen. Verschillende stakeholders zullen verschillende eisen hebben aan de applicatie en we kunnen ons dus ook niet richten op alle verschillende stakeholders tegelijk. \n",
    "\n",
    "De belangrijskte stakeholders waar we ons vooral op gaan richten bij het bouwen van onze applicatie en ons adviesrapport zijn de natuurlijk ProRail en daarnaast de treinplanners van de NS zodat zij betere communicatie kunnen hebben en hierdoor sneller beginnen met het maken van een nieuwe planning wanneer dit moet gebeuren.\n"
   ]
  }
 ],
 "metadata": {
  "kernelspec": {
   "display_name": "Python 3",
   "language": "python",
   "name": "python3"
  },
  "language_info": {
   "codemirror_mode": {
    "name": "ipython",
    "version": 3
   },
   "file_extension": ".py",
   "mimetype": "text/x-python",
   "name": "python",
   "nbconvert_exporter": "python",
   "pygments_lexer": "ipython3",
   "version": "3.7.4"
  }
 },
 "nbformat": 4,
 "nbformat_minor": 4
}
