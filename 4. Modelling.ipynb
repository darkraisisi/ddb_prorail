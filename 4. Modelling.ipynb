{
 "cells": [
  {
   "cell_type": "markdown",
   "metadata": {},
   "source": [
    "# Modelling\n"
   ]
  },
  {
   "cell_type": "markdown",
   "metadata": {},
   "source": [
    "In deze stap gaan we verschillende modellen toepassen op onze data en zo vergelijken om te kijken welk model het beste werkt op de data. "
   ]
  },
  {
   "cell_type": "markdown",
   "metadata": {},
   "source": [
    "Eerst herhalen we hieronder een aantal stappen die we al eerder hebben uitgevoerd. (Voor toelichting: zie 3 Data preparation)"
   ]
  },
  {
   "cell_type": "code",
   "execution_count": 1,
   "metadata": {},
   "outputs": [],
   "source": [
    "import pandas as pd\n",
    "import numpy as np\n",
    "import matplotlib.pyplot as plt\n",
    "import pickle\n",
    "\n",
    "import datetime as date\n",
    "\n",
    "from sklearn import linear_model\n",
    "from sklearn.neighbors import KNeighborsRegressor\n",
    "from sklearn.metrics import mean_squared_error\n",
    "from sklearn.model_selection import train_test_split\n",
    "from sklearn.preprocessing import LabelEncoder\n",
    "from sklearn.ensemble import RandomForestRegressor\n",
    "from sklearn.ensemble import RandomForestClassifier\n",
    "from sklearn import tree\n",
    "from sklearn.metrics import r2_score\n",
    "\n",
    "n_jobs = 16 #set number of jobs equal or -1 the amount of cpu cores you have to speed up this notebook."
   ]
  },
  {
   "cell_type": "code",
   "execution_count": 2,
   "metadata": {},
   "outputs": [],
   "source": [
    "usefullcols = ['stm_mon_nr','stm_sap_meld_ddt','stm_status_melding_sap','stm_km_van_mld','stm_km_tot_mld','stm_km_van_gst',\n",
    "'stm_km_tot_gst','stm_fh_tijd','stm_sap_melddatum','stm_aanngeb_tijd','stm_aanntpl_tijd','stm_arbeid',\n",
    "'stm_progfh_in_tijd','stm_progfh_in_invoer_tijd','stm_progfh_in_duur','stm_sap_storeindtijd','stm_progfh_gw_tijd',\n",
    "'stm_reactie_duur','stm_progfh_gw_duur','stm_progfh_gw_teller','stm_afspr_aanvangdd','stm_afspr_aanvangtijd',\n",
    "'stm_fh_duur','stm_evb','stm_sap_meldtijd','stm_sap_meldtekst_lang','stm_prioriteit','stm_oh_pg_gst',\n",
    "'stm_sap_meldtekst','stm_techn_gst','stm_contractgeb_gst','stm_tao_indicator','stm_geo_mld','stm_functiepl_mld',\n",
    "'stm_geo_mld_uit_functiepl','stm_aanngeb_ddt','stm_aanngeb_dd','stm_oorz_code','stm_oorz_groep','stm_oorz_tkst',\n",
    "'stm_fh_dd','stm_fh_status','stm_geo_gst','stm_functiepl_gst','stm_geo_gst_uit_functiepl','stm_fh_ddt',\n",
    "'stm_aanntpl_dd','stm_techn_mld','stm_sap_storeinddatum','stm_equipm_nr_mld','stm_equipm_soort_mld',\n",
    "'stm_equipm_omschr_mld','stm_sap_storeind_ddt','stm_contractgeb_mld','stm_equipm_nr_gst','stm_equipm_soort_gst',\n",
    "'stm_equipm_omschr_gst','stm_progfh_in_invoer_dat','stm_progfh_in_datum','stm_oorz_tekst_kort','stm_dstrglp_naar',\n",
    "'stm_tao_indicator_vorige','stm_vl_post','stm_dstrglp_van','stm_pplg_van','stm_tao_soort_mutatie',\n",
    "'stm_progfh_gw_lwd_tijd','stm_pplg_naar','stm_progfh_gw_lwd_datum']"
   ]
  },
  {
   "cell_type": "code",
   "execution_count": 3,
   "metadata": {},
   "outputs": [
    {
     "name": "stderr",
     "output_type": "stream",
     "text": [
      "/Users/jet/opt/anaconda3/lib/python3.7/site-packages/IPython/core/interactiveshell.py:3146: DtypeWarning: Columns (11,24,27,49,51,55,56,73,75,78,80,82,86,87,91,95,123,124) have mixed types.Specify dtype option on import or set low_memory=False.\n",
      "  interactivity=interactivity, compiler=compiler, result=result)\n"
     ]
    }
   ],
   "source": [
    "df = pd.read_csv('sap_storing_data_hu_project.csv',usecols=usefullcols, low_memory=True)\n",
    "# df = pd.read_csv('sap_storing.csv',usecols=usefullcols, low_memory=True)"
   ]
  },
  {
   "cell_type": "code",
   "execution_count": 4,
   "metadata": {},
   "outputs": [],
   "source": [
    "features = ['stm_prioriteit','stm_oorz_code','stm_oorz_groep','stm_equipm_soort_*','stm_geo_*']\n",
    "target = 'duur'"
   ]
  },
  {
   "cell_type": "code",
   "execution_count": 5,
   "metadata": {},
   "outputs": [],
   "source": [
    "now = date.datetime.today()\n",
    "zeroTimeDiff = now - now\n",
    "\n",
    "df.drop_duplicates(subset=['stm_mon_nr'], keep='last',inplace = True)\n",
    "\n",
    "df['stm_aanntpl_ddt'] = pd.to_datetime(df['stm_aanntpl_dd']+' '+df['stm_aanntpl_tijd'], format='%d/%m/%Y %H:%M:%S')\n",
    "df['stm_fh_ddt'] = pd.to_datetime(df['stm_fh_ddt'], format='%d/%m/%Y %H:%M:%S')\n",
    "\n",
    "df.dropna(subset=['stm_aanntpl_dd','stm_aanntpl_tijd','stm_fh_ddt'],inplace=True)\n",
    "\n",
    "df['duur'] = df['stm_fh_ddt'] - df['stm_aanntpl_ddt']\n",
    "df.dropna(subset=['duur'],inplace=True)\n",
    "\n",
    "# Meldingen waar de oplossing in de toekomst is zijn onzin.\n",
    "# df[df['stm_sap_storeind_ddt'] >= now][['stm_sap_storeind_ddt','stm_sap_meld_ddt']]\n",
    "# df.drop(df[df['stm_sap_storeind_ddt'] >= now][['stm_sap_storeind_ddt','stm_sap_meld_ddt']].index,inplace=True)\n",
    "\n",
    "# Rijen waar het probleem sneller is opgelost dan 5 minuten (en ook de meldingen tijd) zijn onbetrouwbaar.\n",
    "df.drop(df[df['duur'] <= date.timedelta(minutes=5)].index, inplace = True)\n",
    "\n",
    "# # Alles wat langer dan een dag duurt is niet urgent genoeg en dus niet nuttig.\n",
    "df.drop(df[df['duur'] > date.timedelta(hours=6)].index, inplace = True)"
   ]
  },
  {
   "cell_type": "code",
   "execution_count": 6,
   "metadata": {},
   "outputs": [],
   "source": [
    "dubbleCol = ['stm_equipm_omschr_*', 'stm_equipm_soort_*', 'stm_equipm_nr_*', \n",
    "             'stm_geo_*_uit_functiepl', 'stm_functiepl_*', 'stm_geo_*',\n",
    "            'stm_km_van_*','stm_km_tot_*',\n",
    "            'stm_contractgeb_*','stm_techn_*']\n",
    "original = 'mld'\n",
    "optional = ['gst'] # Order of least to most important\n",
    "for colPH in dubbleCol:\n",
    "    colOg = colPH.replace('*',original)\n",
    "    \n",
    "    for option in optional:\n",
    "        colOp = colPH.replace('*',option)\n",
    "        df[colPH] = np.where(df[colOp].isna(), df[colOg], df[colOp])\n",
    "        df.drop(columns=[colOp],inplace=True)\n",
    "    df.drop(columns=[colOg],inplace=True)"
   ]
  },
  {
   "cell_type": "code",
   "execution_count": 7,
   "metadata": {},
   "outputs": [],
   "source": [
    "df['stm_prioriteit'] = df['stm_prioriteit'].fillna(1) # Laagste prio\n",
    "df['stm_oorz_code'] = df['stm_oorz_code'].fillna(299) # 'Niet gemeld' code\n",
    "df['stm_oorz_groep'] = df['stm_oorz_groep'].fillna('x')\n",
    "df['stm_fh_status'] = df['stm_fh_status'].fillna(1) # Median of values\n",
    "df['stm_aanngeb_tijd'] = df['stm_aanngeb_tijd'].fillna(df['stm_sap_meldtijd']) # Aannemer beltijd gelijk met melding zetten.\n",
    "df['stm_progfh_in_invoer_tijd'] = df['stm_progfh_in_invoer_tijd'].fillna(df['stm_aanngeb_tijd']) # Tijd van prognose op beltijd zetten.\n",
    "df['stm_equipm_nr_*'] = df['stm_equipm_nr_*'].fillna(0)\n",
    "df['stm_equipm_soort_*'] = df['stm_equipm_soort_*'].fillna('x')\n",
    "df['stm_contractgeb_*'] = df['stm_contractgeb_*'].fillna(0)\n",
    "df['stm_progfh_gw_teller'] = df['stm_progfh_gw_teller'].fillna(0)\n",
    "\n",
    "df['stm_prioriteit'] = df['stm_prioriteit'].astype(int)\n",
    "df['stm_oorz_code'] = df['stm_oorz_code'].astype(int)\n",
    "df['stm_fh_status'] = df['stm_fh_status'].astype(int)\n",
    "df['stm_fh_duur'] = df['stm_fh_duur'].astype(int)\n",
    "df['stm_progfh_gw_teller'] = df['stm_progfh_gw_teller'].astype(int)\n",
    "df['stm_equipm_nr_*'] = df['stm_equipm_nr_*'].astype(int)\n",
    "df['stm_contractgeb_*'] = df['stm_contractgeb_*'].astype(int)\n",
    "\n",
    "df['duur'] = df['duur'].apply(lambda x: x.seconds / 60)\n",
    "df['duur'] = df['duur'].astype(int)"
   ]
  },
  {
   "cell_type": "markdown",
   "metadata": {},
   "source": [
    "## 1. Baseline model "
   ]
  },
  {
   "cell_type": "markdown",
   "metadata": {},
   "source": [
    "We beginnen met het baseline model. Dit is het meest simpele model waarvan de uitkomst is dat alle storingen in 2 uur en 17 minuten opgelost zijn."
   ]
  },
  {
   "cell_type": "markdown",
   "metadata": {},
   "source": [
    "### Score en RMSE\n",
    "Echter kunnen we aan de score en de RMSE aflezen dat het baseline model niet erg geschikt is. "
   ]
  },
  {
   "cell_type": "code",
   "execution_count": 8,
   "metadata": {},
   "outputs": [
    {
     "name": "stdout",
     "output_type": "stream",
     "text": [
      "Score : -1.0368133962977053\n",
      "Root mean squared error: 95.1771464162169\n"
     ]
    }
   ],
   "source": [
    "amntInTime = df[df['duur'] < date.timedelta(hours=2,minutes=17).seconds / 60].count()[0]\n",
    "total = df.shape[0]\n",
    "baseline = date.timedelta(hours=2,minutes=17).seconds / 60\n",
    "pred = [int(baseline)]*df[['duur']].shape[0]\n",
    "\n",
    "baseline = date.timedelta(hours=2,minutes=17)\n",
    "baseline = baseline.seconds / 60\n",
    "pred = [int(baseline)]*df[[target]].shape[0]\n",
    "\n",
    "print('Score :', r2_score(df[[target]],pred))\n",
    "print('Root mean squared error:',np.sqrt(mean_squared_error(df['duur'],pred)))"
   ]
  },
  {
   "cell_type": "markdown",
   "metadata": {},
   "source": [
    "## 2. Dataset trainen"
   ]
  },
  {
   "cell_type": "code",
   "execution_count": 9,
   "metadata": {},
   "outputs": [],
   "source": [
    "le_ozgr = LabelEncoder()\n",
    "le_ozgr.fit(df['stm_oorz_groep'].unique())\n",
    "df['stm_oorz_groep'] = le_ozgr.transform(df['stm_oorz_groep'])\n",
    "# df['stm_oorz_groep'].unique()\n",
    "pickle.dump(le_ozgr, open('le_ozgr', 'wb'))"
   ]
  },
  {
   "cell_type": "code",
   "execution_count": 10,
   "metadata": {},
   "outputs": [],
   "source": [
    "le_equipsrt = LabelEncoder()\n",
    "le_equipsrt.fit(df['stm_equipm_soort_*'].unique())\n",
    "df['stm_equipm_soort_*'] = le_equipsrt.transform(df['stm_equipm_soort_*'])\n",
    "# df['stm_equipm_soort_*'].unique()\n",
    "pickle.dump(le_equipsrt, open('le_equipsrt', 'wb'))"
   ]
  },
  {
   "cell_type": "markdown",
   "metadata": {},
   "source": [
    "###  2.1  Get_dummies\n",
    "Hieronder gebruiken we get_dummies op verschillende feature kolommen, wat we hier doen is het omzetten van categoriale data naar nominale waardes. We doen dit niet bij stm_prioriteit omdat het voor deze kolom belangrijk is dat het zijn volgorde behoudt, de waarde van de prioriteit zegt iets over de volgordelijkheid. Wanneer je hierop get_dummies zou toepassen, zou je juist deze volgordelijkheid verliezen. Bij de andere kolommen is dit niet zo. "
   ]
  },
  {
   "cell_type": "code",
   "execution_count": 11,
   "metadata": {},
   "outputs": [
    {
     "data": {
      "text/html": [
       "<div>\n",
       "<style scoped>\n",
       "    .dataframe tbody tr th:only-of-type {\n",
       "        vertical-align: middle;\n",
       "    }\n",
       "\n",
       "    .dataframe tbody tr th {\n",
       "        vertical-align: top;\n",
       "    }\n",
       "\n",
       "    .dataframe thead th {\n",
       "        text-align: right;\n",
       "    }\n",
       "</style>\n",
       "<table border=\"1\" class=\"dataframe\">\n",
       "  <thead>\n",
       "    <tr style=\"text-align: right;\">\n",
       "      <th></th>\n",
       "      <th>stm_prioriteit</th>\n",
       "      <th>oorz_code_33</th>\n",
       "      <th>oorz_code_130</th>\n",
       "      <th>oorz_code_131</th>\n",
       "      <th>oorz_code_132</th>\n",
       "      <th>oorz_code_133</th>\n",
       "      <th>oorz_code_134</th>\n",
       "      <th>oorz_code_135</th>\n",
       "      <th>oorz_code_136</th>\n",
       "      <th>oorz_code_140</th>\n",
       "      <th>...</th>\n",
       "      <th>geo_924</th>\n",
       "      <th>geo_924.0</th>\n",
       "      <th>geo_926</th>\n",
       "      <th>geo_94.0</th>\n",
       "      <th>geo_950</th>\n",
       "      <th>geo_950.0</th>\n",
       "      <th>geo_952</th>\n",
       "      <th>geo_98.0</th>\n",
       "      <th>geo_99</th>\n",
       "      <th>geo_99.0</th>\n",
       "    </tr>\n",
       "  </thead>\n",
       "  <tbody>\n",
       "    <tr>\n",
       "      <th>32099</th>\n",
       "      <td>9</td>\n",
       "      <td>0</td>\n",
       "      <td>0</td>\n",
       "      <td>0</td>\n",
       "      <td>0</td>\n",
       "      <td>0</td>\n",
       "      <td>0</td>\n",
       "      <td>0</td>\n",
       "      <td>0</td>\n",
       "      <td>0</td>\n",
       "      <td>...</td>\n",
       "      <td>0</td>\n",
       "      <td>0</td>\n",
       "      <td>0</td>\n",
       "      <td>0</td>\n",
       "      <td>0</td>\n",
       "      <td>0</td>\n",
       "      <td>0</td>\n",
       "      <td>0</td>\n",
       "      <td>0</td>\n",
       "      <td>0</td>\n",
       "    </tr>\n",
       "    <tr>\n",
       "      <th>60683</th>\n",
       "      <td>1</td>\n",
       "      <td>0</td>\n",
       "      <td>0</td>\n",
       "      <td>0</td>\n",
       "      <td>0</td>\n",
       "      <td>0</td>\n",
       "      <td>0</td>\n",
       "      <td>0</td>\n",
       "      <td>0</td>\n",
       "      <td>0</td>\n",
       "      <td>...</td>\n",
       "      <td>0</td>\n",
       "      <td>0</td>\n",
       "      <td>0</td>\n",
       "      <td>0</td>\n",
       "      <td>0</td>\n",
       "      <td>0</td>\n",
       "      <td>0</td>\n",
       "      <td>0</td>\n",
       "      <td>0</td>\n",
       "      <td>0</td>\n",
       "    </tr>\n",
       "    <tr>\n",
       "      <th>85621</th>\n",
       "      <td>9</td>\n",
       "      <td>0</td>\n",
       "      <td>0</td>\n",
       "      <td>0</td>\n",
       "      <td>0</td>\n",
       "      <td>0</td>\n",
       "      <td>0</td>\n",
       "      <td>0</td>\n",
       "      <td>0</td>\n",
       "      <td>0</td>\n",
       "      <td>...</td>\n",
       "      <td>0</td>\n",
       "      <td>0</td>\n",
       "      <td>0</td>\n",
       "      <td>0</td>\n",
       "      <td>0</td>\n",
       "      <td>0</td>\n",
       "      <td>0</td>\n",
       "      <td>0</td>\n",
       "      <td>0</td>\n",
       "      <td>0</td>\n",
       "    </tr>\n",
       "    <tr>\n",
       "      <th>91875</th>\n",
       "      <td>9</td>\n",
       "      <td>0</td>\n",
       "      <td>0</td>\n",
       "      <td>0</td>\n",
       "      <td>0</td>\n",
       "      <td>0</td>\n",
       "      <td>0</td>\n",
       "      <td>0</td>\n",
       "      <td>0</td>\n",
       "      <td>0</td>\n",
       "      <td>...</td>\n",
       "      <td>0</td>\n",
       "      <td>0</td>\n",
       "      <td>0</td>\n",
       "      <td>0</td>\n",
       "      <td>0</td>\n",
       "      <td>0</td>\n",
       "      <td>0</td>\n",
       "      <td>0</td>\n",
       "      <td>0</td>\n",
       "      <td>0</td>\n",
       "    </tr>\n",
       "    <tr>\n",
       "      <th>92852</th>\n",
       "      <td>9</td>\n",
       "      <td>0</td>\n",
       "      <td>0</td>\n",
       "      <td>0</td>\n",
       "      <td>0</td>\n",
       "      <td>0</td>\n",
       "      <td>0</td>\n",
       "      <td>0</td>\n",
       "      <td>0</td>\n",
       "      <td>0</td>\n",
       "      <td>...</td>\n",
       "      <td>0</td>\n",
       "      <td>0</td>\n",
       "      <td>0</td>\n",
       "      <td>0</td>\n",
       "      <td>0</td>\n",
       "      <td>0</td>\n",
       "      <td>0</td>\n",
       "      <td>0</td>\n",
       "      <td>0</td>\n",
       "      <td>0</td>\n",
       "    </tr>\n",
       "    <tr>\n",
       "      <th>...</th>\n",
       "      <td>...</td>\n",
       "      <td>...</td>\n",
       "      <td>...</td>\n",
       "      <td>...</td>\n",
       "      <td>...</td>\n",
       "      <td>...</td>\n",
       "      <td>...</td>\n",
       "      <td>...</td>\n",
       "      <td>...</td>\n",
       "      <td>...</td>\n",
       "      <td>...</td>\n",
       "      <td>...</td>\n",
       "      <td>...</td>\n",
       "      <td>...</td>\n",
       "      <td>...</td>\n",
       "      <td>...</td>\n",
       "      <td>...</td>\n",
       "      <td>...</td>\n",
       "      <td>...</td>\n",
       "      <td>...</td>\n",
       "      <td>...</td>\n",
       "    </tr>\n",
       "    <tr>\n",
       "      <th>898355</th>\n",
       "      <td>2</td>\n",
       "      <td>0</td>\n",
       "      <td>0</td>\n",
       "      <td>0</td>\n",
       "      <td>0</td>\n",
       "      <td>0</td>\n",
       "      <td>0</td>\n",
       "      <td>0</td>\n",
       "      <td>0</td>\n",
       "      <td>1</td>\n",
       "      <td>...</td>\n",
       "      <td>0</td>\n",
       "      <td>0</td>\n",
       "      <td>0</td>\n",
       "      <td>0</td>\n",
       "      <td>0</td>\n",
       "      <td>0</td>\n",
       "      <td>0</td>\n",
       "      <td>0</td>\n",
       "      <td>0</td>\n",
       "      <td>0</td>\n",
       "    </tr>\n",
       "    <tr>\n",
       "      <th>898368</th>\n",
       "      <td>2</td>\n",
       "      <td>0</td>\n",
       "      <td>0</td>\n",
       "      <td>0</td>\n",
       "      <td>0</td>\n",
       "      <td>0</td>\n",
       "      <td>0</td>\n",
       "      <td>0</td>\n",
       "      <td>0</td>\n",
       "      <td>0</td>\n",
       "      <td>...</td>\n",
       "      <td>0</td>\n",
       "      <td>0</td>\n",
       "      <td>0</td>\n",
       "      <td>0</td>\n",
       "      <td>0</td>\n",
       "      <td>0</td>\n",
       "      <td>0</td>\n",
       "      <td>0</td>\n",
       "      <td>0</td>\n",
       "      <td>0</td>\n",
       "    </tr>\n",
       "    <tr>\n",
       "      <th>898413</th>\n",
       "      <td>2</td>\n",
       "      <td>0</td>\n",
       "      <td>0</td>\n",
       "      <td>0</td>\n",
       "      <td>0</td>\n",
       "      <td>0</td>\n",
       "      <td>0</td>\n",
       "      <td>0</td>\n",
       "      <td>0</td>\n",
       "      <td>0</td>\n",
       "      <td>...</td>\n",
       "      <td>0</td>\n",
       "      <td>0</td>\n",
       "      <td>0</td>\n",
       "      <td>0</td>\n",
       "      <td>0</td>\n",
       "      <td>0</td>\n",
       "      <td>0</td>\n",
       "      <td>0</td>\n",
       "      <td>0</td>\n",
       "      <td>0</td>\n",
       "    </tr>\n",
       "    <tr>\n",
       "      <th>898475</th>\n",
       "      <td>1</td>\n",
       "      <td>0</td>\n",
       "      <td>0</td>\n",
       "      <td>0</td>\n",
       "      <td>0</td>\n",
       "      <td>0</td>\n",
       "      <td>0</td>\n",
       "      <td>0</td>\n",
       "      <td>0</td>\n",
       "      <td>0</td>\n",
       "      <td>...</td>\n",
       "      <td>0</td>\n",
       "      <td>0</td>\n",
       "      <td>0</td>\n",
       "      <td>0</td>\n",
       "      <td>0</td>\n",
       "      <td>0</td>\n",
       "      <td>0</td>\n",
       "      <td>0</td>\n",
       "      <td>0</td>\n",
       "      <td>0</td>\n",
       "    </tr>\n",
       "    <tr>\n",
       "      <th>898525</th>\n",
       "      <td>2</td>\n",
       "      <td>0</td>\n",
       "      <td>0</td>\n",
       "      <td>0</td>\n",
       "      <td>0</td>\n",
       "      <td>0</td>\n",
       "      <td>0</td>\n",
       "      <td>0</td>\n",
       "      <td>0</td>\n",
       "      <td>0</td>\n",
       "      <td>...</td>\n",
       "      <td>0</td>\n",
       "      <td>0</td>\n",
       "      <td>0</td>\n",
       "      <td>0</td>\n",
       "      <td>0</td>\n",
       "      <td>0</td>\n",
       "      <td>0</td>\n",
       "      <td>0</td>\n",
       "      <td>0</td>\n",
       "      <td>0</td>\n",
       "    </tr>\n",
       "  </tbody>\n",
       "</table>\n",
       "<p>66657 rows × 975 columns</p>\n",
       "</div>"
      ],
      "text/plain": [
       "        stm_prioriteit  oorz_code_33  oorz_code_130  oorz_code_131  \\\n",
       "32099                9             0              0              0   \n",
       "60683                1             0              0              0   \n",
       "85621                9             0              0              0   \n",
       "91875                9             0              0              0   \n",
       "92852                9             0              0              0   \n",
       "...                ...           ...            ...            ...   \n",
       "898355               2             0              0              0   \n",
       "898368               2             0              0              0   \n",
       "898413               2             0              0              0   \n",
       "898475               1             0              0              0   \n",
       "898525               2             0              0              0   \n",
       "\n",
       "        oorz_code_132  oorz_code_133  oorz_code_134  oorz_code_135  \\\n",
       "32099               0              0              0              0   \n",
       "60683               0              0              0              0   \n",
       "85621               0              0              0              0   \n",
       "91875               0              0              0              0   \n",
       "92852               0              0              0              0   \n",
       "...               ...            ...            ...            ...   \n",
       "898355              0              0              0              0   \n",
       "898368              0              0              0              0   \n",
       "898413              0              0              0              0   \n",
       "898475              0              0              0              0   \n",
       "898525              0              0              0              0   \n",
       "\n",
       "        oorz_code_136  oorz_code_140  ...  geo_924  geo_924.0  geo_926  \\\n",
       "32099               0              0  ...        0          0        0   \n",
       "60683               0              0  ...        0          0        0   \n",
       "85621               0              0  ...        0          0        0   \n",
       "91875               0              0  ...        0          0        0   \n",
       "92852               0              0  ...        0          0        0   \n",
       "...               ...            ...  ...      ...        ...      ...   \n",
       "898355              0              1  ...        0          0        0   \n",
       "898368              0              0  ...        0          0        0   \n",
       "898413              0              0  ...        0          0        0   \n",
       "898475              0              0  ...        0          0        0   \n",
       "898525              0              0  ...        0          0        0   \n",
       "\n",
       "        geo_94.0  geo_950  geo_950.0  geo_952  geo_98.0  geo_99  geo_99.0  \n",
       "32099          0        0          0        0         0       0         0  \n",
       "60683          0        0          0        0         0       0         0  \n",
       "85621          0        0          0        0         0       0         0  \n",
       "91875          0        0          0        0         0       0         0  \n",
       "92852          0        0          0        0         0       0         0  \n",
       "...          ...      ...        ...      ...       ...     ...       ...  \n",
       "898355         0        0          0        0         0       0         0  \n",
       "898368         0        0          0        0         0       0         0  \n",
       "898413         0        0          0        0         0       0         0  \n",
       "898475         0        0          0        0         0       0         0  \n",
       "898525         0        0          0        0         0       0         0  \n",
       "\n",
       "[66657 rows x 975 columns]"
      ]
     },
     "metadata": {},
     "output_type": "display_data"
    },
    {
     "data": {
      "text/plain": [
       "(66657, 975)"
      ]
     },
     "execution_count": 11,
     "metadata": {},
     "output_type": "execute_result"
    }
   ],
   "source": [
    "dOC = pd.get_dummies(df['stm_oorz_code'],prefix='oorz_code')\n",
    "dOG = pd.get_dummies(df['stm_oorz_groep'],prefix='oorz_groep')\n",
    "eqs = pd.get_dummies(df['stm_equipm_soort_*'])\n",
    "geo = pd.get_dummies(df['stm_geo_*'],prefix='geo')\n",
    "\n",
    "dummies = pd.concat([df['stm_prioriteit'],dOC, dOG, eqs, geo],axis=1)\n",
    "\n",
    "display(dummies)\n",
    "dummies.shape"
   ]
  },
  {
   "cell_type": "code",
   "execution_count": 12,
   "metadata": {},
   "outputs": [],
   "source": [
    " X = dummies\n",
    "#X = df[features]\n",
    "Y = df[target]\n",
    "\n",
    "x_train, x_test, y_train, y_test = train_test_split(X, Y, test_size=0.1, random_state=21)"
   ]
  },
  {
   "cell_type": "code",
   "execution_count": 13,
   "metadata": {},
   "outputs": [
    {
     "name": "stdout",
     "output_type": "stream",
     "text": [
      "166704     40\n",
      "469546     52\n",
      "752187     60\n",
      "246706     19\n",
      "596457     32\n",
      "         ... \n",
      "817163    210\n",
      "492952     17\n",
      "463751     33\n",
      "810326     25\n",
      "235216     10\n",
      "Name: duur, Length: 59991, dtype: int64 (59991,)\n"
     ]
    }
   ],
   "source": [
    "print(y_train,y_train.shape)"
   ]
  },
  {
   "cell_type": "markdown",
   "metadata": {},
   "source": [
    "## 2. Lineaire regressie"
   ]
  },
  {
   "cell_type": "markdown",
   "metadata": {},
   "source": [
    "### Score en RMSE"
   ]
  },
  {
   "cell_type": "code",
   "execution_count": 14,
   "metadata": {},
   "outputs": [
    {
     "name": "stdout",
     "output_type": "stream",
     "text": [
      "Score: -1.512165349501866e+16\n",
      "Mean squared error: 8209374840.113075\n"
     ]
    }
   ],
   "source": [
    "linearModel = linear_model.LinearRegression().fit(x_train,y_train)\n",
    "linYPrediction = linearModel.predict(x_test)\n",
    "print(f'Score: {linearModel.score(x_test,y_test)}')\n",
    "print(f'Mean squared error: {np.sqrt(mean_squared_error(y_test,linYPrediction))}')"
   ]
  },
  {
   "cell_type": "code",
   "execution_count": 15,
   "metadata": {},
   "outputs": [
    {
     "data": {
      "text/html": [
       "<div>\n",
       "<style scoped>\n",
       "    .dataframe tbody tr th:only-of-type {\n",
       "        vertical-align: middle;\n",
       "    }\n",
       "\n",
       "    .dataframe tbody tr th {\n",
       "        vertical-align: top;\n",
       "    }\n",
       "\n",
       "    .dataframe thead th {\n",
       "        text-align: right;\n",
       "    }\n",
       "</style>\n",
       "<table border=\"1\" class=\"dataframe\">\n",
       "  <thead>\n",
       "    <tr style=\"text-align: right;\">\n",
       "      <th></th>\n",
       "      <th>stm_prioriteit</th>\n",
       "      <th>oorz_code_33</th>\n",
       "      <th>oorz_code_130</th>\n",
       "      <th>oorz_code_131</th>\n",
       "      <th>oorz_code_132</th>\n",
       "      <th>oorz_code_133</th>\n",
       "      <th>oorz_code_134</th>\n",
       "      <th>oorz_code_135</th>\n",
       "      <th>oorz_code_136</th>\n",
       "      <th>oorz_code_140</th>\n",
       "      <th>...</th>\n",
       "      <th>geo_924</th>\n",
       "      <th>geo_924.0</th>\n",
       "      <th>geo_926</th>\n",
       "      <th>geo_94.0</th>\n",
       "      <th>geo_950</th>\n",
       "      <th>geo_950.0</th>\n",
       "      <th>geo_952</th>\n",
       "      <th>geo_98.0</th>\n",
       "      <th>geo_99</th>\n",
       "      <th>geo_99.0</th>\n",
       "    </tr>\n",
       "  </thead>\n",
       "  <tbody>\n",
       "    <tr>\n",
       "      <th>436311</th>\n",
       "      <td>2</td>\n",
       "      <td>0</td>\n",
       "      <td>0</td>\n",
       "      <td>0</td>\n",
       "      <td>0</td>\n",
       "      <td>1</td>\n",
       "      <td>0</td>\n",
       "      <td>0</td>\n",
       "      <td>0</td>\n",
       "      <td>0</td>\n",
       "      <td>...</td>\n",
       "      <td>0</td>\n",
       "      <td>0</td>\n",
       "      <td>0</td>\n",
       "      <td>0</td>\n",
       "      <td>0</td>\n",
       "      <td>0</td>\n",
       "      <td>0</td>\n",
       "      <td>0</td>\n",
       "      <td>0</td>\n",
       "      <td>0</td>\n",
       "    </tr>\n",
       "    <tr>\n",
       "      <th>241351</th>\n",
       "      <td>2</td>\n",
       "      <td>0</td>\n",
       "      <td>0</td>\n",
       "      <td>0</td>\n",
       "      <td>0</td>\n",
       "      <td>0</td>\n",
       "      <td>0</td>\n",
       "      <td>0</td>\n",
       "      <td>0</td>\n",
       "      <td>0</td>\n",
       "      <td>...</td>\n",
       "      <td>0</td>\n",
       "      <td>0</td>\n",
       "      <td>0</td>\n",
       "      <td>0</td>\n",
       "      <td>0</td>\n",
       "      <td>0</td>\n",
       "      <td>0</td>\n",
       "      <td>0</td>\n",
       "      <td>0</td>\n",
       "      <td>0</td>\n",
       "    </tr>\n",
       "    <tr>\n",
       "      <th>666482</th>\n",
       "      <td>5</td>\n",
       "      <td>0</td>\n",
       "      <td>0</td>\n",
       "      <td>0</td>\n",
       "      <td>0</td>\n",
       "      <td>0</td>\n",
       "      <td>0</td>\n",
       "      <td>0</td>\n",
       "      <td>0</td>\n",
       "      <td>0</td>\n",
       "      <td>...</td>\n",
       "      <td>0</td>\n",
       "      <td>0</td>\n",
       "      <td>0</td>\n",
       "      <td>0</td>\n",
       "      <td>0</td>\n",
       "      <td>0</td>\n",
       "      <td>0</td>\n",
       "      <td>0</td>\n",
       "      <td>0</td>\n",
       "      <td>0</td>\n",
       "    </tr>\n",
       "    <tr>\n",
       "      <th>524448</th>\n",
       "      <td>2</td>\n",
       "      <td>0</td>\n",
       "      <td>0</td>\n",
       "      <td>0</td>\n",
       "      <td>0</td>\n",
       "      <td>0</td>\n",
       "      <td>0</td>\n",
       "      <td>0</td>\n",
       "      <td>0</td>\n",
       "      <td>0</td>\n",
       "      <td>...</td>\n",
       "      <td>0</td>\n",
       "      <td>0</td>\n",
       "      <td>0</td>\n",
       "      <td>0</td>\n",
       "      <td>0</td>\n",
       "      <td>0</td>\n",
       "      <td>0</td>\n",
       "      <td>0</td>\n",
       "      <td>0</td>\n",
       "      <td>0</td>\n",
       "    </tr>\n",
       "    <tr>\n",
       "      <th>372190</th>\n",
       "      <td>2</td>\n",
       "      <td>0</td>\n",
       "      <td>0</td>\n",
       "      <td>0</td>\n",
       "      <td>0</td>\n",
       "      <td>0</td>\n",
       "      <td>0</td>\n",
       "      <td>0</td>\n",
       "      <td>0</td>\n",
       "      <td>0</td>\n",
       "      <td>...</td>\n",
       "      <td>0</td>\n",
       "      <td>0</td>\n",
       "      <td>0</td>\n",
       "      <td>0</td>\n",
       "      <td>0</td>\n",
       "      <td>0</td>\n",
       "      <td>0</td>\n",
       "      <td>0</td>\n",
       "      <td>0</td>\n",
       "      <td>0</td>\n",
       "    </tr>\n",
       "  </tbody>\n",
       "</table>\n",
       "<p>5 rows × 975 columns</p>\n",
       "</div>"
      ],
      "text/plain": [
       "        stm_prioriteit  oorz_code_33  oorz_code_130  oorz_code_131  \\\n",
       "436311               2             0              0              0   \n",
       "241351               2             0              0              0   \n",
       "666482               5             0              0              0   \n",
       "524448               2             0              0              0   \n",
       "372190               2             0              0              0   \n",
       "\n",
       "        oorz_code_132  oorz_code_133  oorz_code_134  oorz_code_135  \\\n",
       "436311              0              1              0              0   \n",
       "241351              0              0              0              0   \n",
       "666482              0              0              0              0   \n",
       "524448              0              0              0              0   \n",
       "372190              0              0              0              0   \n",
       "\n",
       "        oorz_code_136  oorz_code_140  ...  geo_924  geo_924.0  geo_926  \\\n",
       "436311              0              0  ...        0          0        0   \n",
       "241351              0              0  ...        0          0        0   \n",
       "666482              0              0  ...        0          0        0   \n",
       "524448              0              0  ...        0          0        0   \n",
       "372190              0              0  ...        0          0        0   \n",
       "\n",
       "        geo_94.0  geo_950  geo_950.0  geo_952  geo_98.0  geo_99  geo_99.0  \n",
       "436311         0        0          0        0         0       0         0  \n",
       "241351         0        0          0        0         0       0         0  \n",
       "666482         0        0          0        0         0       0         0  \n",
       "524448         0        0          0        0         0       0         0  \n",
       "372190         0        0          0        0         0       0         0  \n",
       "\n",
       "[5 rows x 975 columns]"
      ]
     },
     "metadata": {},
     "output_type": "display_data"
    },
    {
     "data": {
      "text/plain": [
       "436311    103\n",
       "241351    126\n",
       "666482     60\n",
       "524448      8\n",
       "372190    294\n",
       "Name: duur, dtype: int64"
      ]
     },
     "metadata": {},
     "output_type": "display_data"
    },
    {
     "data": {
      "text/plain": [
       "array([62.47851562, 87.92382812, 89.05273438, 37.40429688, 46.82226562])"
      ]
     },
     "execution_count": 15,
     "metadata": {},
     "output_type": "execute_result"
    }
   ],
   "source": [
    "display(x_test[:5])\n",
    "display(y_test[:5])\n",
    "linYPrediction[:5]"
   ]
  },
  {
   "cell_type": "markdown",
   "metadata": {},
   "source": [
    "## 3. Ridge regressie"
   ]
  },
  {
   "cell_type": "markdown",
   "metadata": {},
   "source": [
    "### Score en RMSE"
   ]
  },
  {
   "cell_type": "code",
   "execution_count": 16,
   "metadata": {
    "scrolled": true
   },
   "outputs": [
    {
     "name": "stdout",
     "output_type": "stream",
     "text": [
      "Score: 0.1285415379485525\n",
      "Mean squared error: 62.32091062744355\n",
      "{'alpha': 1, 'copy_X': True, 'fit_intercept': True, 'max_iter': None, 'normalize': False, 'random_state': None, 'solver': 'auto', 'tol': 0.001}\n",
      "{'alpha': 1, 'copy_X': True, 'fit_intercept': True, 'max_iter': None, 'normalize': False, 'random_state': None, 'solver': 'auto', 'tol': 0.001}\n"
     ]
    }
   ],
   "source": [
    "ridgeModel = linear_model.Ridge(alpha=1).fit(x_train,y_train)\n",
    "ridgeYPrediction = ridgeModel.predict(x_test)\n",
    "print(f'Score: {ridgeModel.score(x_test,y_test)}')\n",
    "print(f'Mean squared error: {np.sqrt(mean_squared_error(y_test,ridgeYPrediction))}')\n",
    "print(ridgeModel.get_params())\n",
    "print(ridgeModel.get_params(deep=True))"
   ]
  },
  {
   "cell_type": "markdown",
   "metadata": {},
   "source": [
    "## 4. KNearest Neighbours regressie\n",
    "### Score en RMSE"
   ]
  },
  {
   "cell_type": "code",
   "execution_count": 17,
   "metadata": {},
   "outputs": [
    {
     "name": "stdout",
     "output_type": "stream",
     "text": [
      "Score: -0.18095928719327903\n",
      "Mean squared error: 72.54841152431574\n"
     ]
    }
   ],
   "source": [
    "knearestModel = KNeighborsRegressor(n_neighbors=2,n_jobs=n_jobs).fit(x_train,y_train)\n",
    "knearestYPrediction = knearestModel.predict(x_test)\n",
    "print(f'Score: {knearestModel.score(x_test,y_test)}')\n",
    "print(f'Mean squared error: {np.sqrt(mean_squared_error(y_test,knearestYPrediction))}')"
   ]
  },
  {
   "cell_type": "markdown",
   "metadata": {},
   "source": [
    "### Bias/Variance trade-off"
   ]
  },
  {
   "cell_type": "code",
   "execution_count": 18,
   "metadata": {},
   "outputs": [],
   "source": [
    "# max_neighbours = 10\n",
    "# scores_train = np.zeros(max_neighbours)\n",
    "# scores_test = np.zeros(max_neighbours)\n",
    "# variance = np.zeros(max_neighbours)\n",
    "\n",
    "# neighbours = range(1, max_neighbours + 1)\n",
    "# for n in neighbours:\n",
    "#     print(f\"Starting with run:{n}\")\n",
    "#     model = KNeighborsRegressor(n_neighbors=n,n_jobs=n_jobs,leaf_size=10)\n",
    "#     model.fit(x_train, y_train)\n",
    "#     score_train = model.score(x_train, y_train)\n",
    "#     scores_train[n-1] = score_train\n",
    "\n",
    "#     score_test = model.score(x_test, y_test)\n",
    "#     scores_test[n-1] = score_test\n",
    "\n",
    "#     variance[n-1] = score_train - score_test\n",
    "#     #     print(\"Score bij diepte {}: {:.2f}%.\".format(depth, score))\n",
    "\n",
    "# fig, ax = plt.subplots(1, dpi=100)\n",
    "\n",
    "# line1, = ax.plot(neighbours, scores_train, label='Train')\n",
    "# line2, = ax.plot(neighbours, scores_test, label='Test')\n",
    "# line3, = ax.plot(neighbours, variance, label='Variance')\n",
    "\n",
    "# ax.legend()\n",
    "# ax.set_xlabel(\"diepte (aantal lagen)\")\n",
    "# ax.set_ylabel(\"Bias-Variance\")\n",
    "\n",
    "# plt.show()"
   ]
  },
  {
   "cell_type": "markdown",
   "metadata": {},
   "source": [
    "## 5. Decision Tree regressie"
   ]
  },
  {
   "cell_type": "code",
   "execution_count": 19,
   "metadata": {},
   "outputs": [],
   "source": [
    "from sklearn.tree import DecisionTreeRegressor\n",
    "from sklearn.svm import SVR\n",
    "from sklearn.metrics import r2_score"
   ]
  },
  {
   "cell_type": "markdown",
   "metadata": {},
   "source": [
    "Bij decision tree regressie kun je zelf de parameter voor max_depth aanpassen. Hieronder tonen we twee voorbeelden waarbij bij het eerste geval de max_depth op 2 staat en bij het tweede geval op 37. Hierna vergelijken we de scores van de twee decision trees. "
   ]
  },
  {
   "cell_type": "code",
   "execution_count": 20,
   "metadata": {},
   "outputs": [],
   "source": [
    "dtree1 = DecisionTreeRegressor(max_depth=2)\n",
    "dtree2 = DecisionTreeRegressor(max_depth=37)\n",
    "dtree1.fit(x_train, y_train)\n",
    "dtree2.fit(x_train, y_train)\n",
    "\n",
    "# Code Lines 5 to 6: Predict on training data\n",
    "tr1 = dtree1.predict(x_train)\n",
    "tr2 = dtree2.predict(x_train) \n",
    "\n",
    "#Code Lines 7 to 8: Predict on testing data\n",
    "y1 = dtree1.predict(x_test)\n",
    "y2 = dtree2.predict(x_test) "
   ]
  },
  {
   "cell_type": "markdown",
   "metadata": {},
   "source": [
    "### Score en RMSE"
   ]
  },
  {
   "cell_type": "markdown",
   "metadata": {},
   "source": [
    "#### Test decision trees"
   ]
  },
  {
   "cell_type": "code",
   "execution_count": 21,
   "metadata": {},
   "outputs": [
    {
     "name": "stdout",
     "output_type": "stream",
     "text": [
      "Score decision tree 1, max_depth 2\n",
      "65.54789427157387\n",
      "0.03595657000510666\n"
     ]
    }
   ],
   "source": [
    "print(\"Score decision tree 1, max_depth 2\")\n",
    "print(np.sqrt(mean_squared_error(y_test,y1))) \n",
    "print(r2_score(y_test, y1))"
   ]
  },
  {
   "cell_type": "code",
   "execution_count": 22,
   "metadata": {},
   "outputs": [
    {
     "name": "stdout",
     "output_type": "stream",
     "text": [
      "Score decision tree 2, max_depth 37\n",
      "66.32782565533752\n",
      "0.01287845410756916\n"
     ]
    }
   ],
   "source": [
    "print(\"Score decision tree 2, max_depth 37\")\n",
    "print(np.sqrt(mean_squared_error(y_test,y2))) \n",
    "print(r2_score(y_test, y2))"
   ]
  },
  {
   "cell_type": "markdown",
   "metadata": {},
   "source": [
    "#### Final decision tree"
   ]
  },
  {
   "cell_type": "markdown",
   "metadata": {},
   "source": [
    "Om overfitten te voorkomen bij een te hoge max_depth en wel de beste score te behouden, kiezen we voor deze hyperparamter het getal 8. "
   ]
  },
  {
   "cell_type": "code",
   "execution_count": 23,
   "metadata": {
    "scrolled": true
   },
   "outputs": [
    {
     "name": "stdout",
     "output_type": "stream",
     "text": [
      "0.08965249279376963\n",
      "63.69627695312084\n"
     ]
    }
   ],
   "source": [
    "dtree_final = DecisionTreeRegressor(max_depth=8)\n",
    "dtree_final.fit(x_train, y_train)\n",
    "\n",
    "y_final = dtree_final.predict(x_test)\n",
    "\n",
    "print(r2_score(y_test, y_final))\n",
    "print(np.sqrt(mean_squared_error(y_test,y_final))) "
   ]
  },
  {
   "cell_type": "markdown",
   "metadata": {},
   "source": [
    "### Bias/Variance trade-off"
   ]
  },
  {
   "cell_type": "code",
   "execution_count": 24,
   "metadata": {},
   "outputs": [],
   "source": [
    "# max_depth = 20\n",
    "# scores_train = np.zeros(max_depth)\n",
    "# scores_test = np.zeros(max_depth)\n",
    "# variance = np.zeros(max_depth)\n",
    "\n",
    "# depths = range(1, max_depth + 1)\n",
    "# for depth in depths:\n",
    "#     model = DecisionTreeRegressor(max_depth=depth, min_samples_split=20)\n",
    "#     model.fit(x_train, y_train)\n",
    "    \n",
    "#     score_train = model.score(x_train, y_train)\n",
    "#     scores_train[depth-1] = score_train\n",
    "\n",
    "#     score_test = model.score(x_test, y_test)\n",
    "#     scores_test[depth-1] = score_test\n",
    "\n",
    "#     variance[depth-1] = score_train - score_test\n",
    "#     #     print(\"Score bij diepte {}: {:.2f}%.\".format(depth, score))\n",
    "\n",
    "# fig, ax = plt.subplots(1, dpi=100)\n",
    "\n",
    "# line1, = ax.plot(depths, scores_train, label='Train')\n",
    "# line2, = ax.plot(depths, scores_test, label='Test')\n",
    "# line3, = ax.plot(depths, variance, label='Variance')\n",
    "\n",
    "# ax.legend()\n",
    "# ax.set_xlabel(\"diepte (aantal lagen)\")\n",
    "# ax.set_ylabel(\"Bias-Variance\")\n",
    "\n",
    "# plt.show()"
   ]
  },
  {
   "cell_type": "markdown",
   "metadata": {},
   "source": [
    "## 6. Random Forest regressie"
   ]
  },
  {
   "cell_type": "code",
   "execution_count": 25,
   "metadata": {},
   "outputs": [],
   "source": [
    "model_rf = RandomForestRegressor(max_features=None, n_estimators=50, max_leaf_nodes=48, oob_score=True, random_state=100,n_jobs=n_jobs)"
   ]
  },
  {
   "cell_type": "markdown",
   "metadata": {},
   "source": [
    "### Score en RMSE"
   ]
  },
  {
   "cell_type": "code",
   "execution_count": 26,
   "metadata": {},
   "outputs": [
    {
     "name": "stdout",
     "output_type": "stream",
     "text": [
      "Train RMSE: 62.25818256850878\n",
      "Train R^2 score: 0.12826947739556394\n",
      "Test RMSE: 62.29861607909364\n",
      "Test R^2 score: 0.12916493376924598\n"
     ]
    }
   ],
   "source": [
    "model_rf.fit(x_train, y_train) \n",
    "pred_train_rf= model_rf.predict(x_train)\n",
    "print('Train RMSE:',np.sqrt(mean_squared_error(y_train,pred_train_rf)))\n",
    "print('Train R^2 score:',r2_score(y_train, pred_train_rf))\n",
    "pred_test_rf= model_rf.predict(x_test)\n",
    "print('Test RMSE:',np.sqrt(mean_squared_error(y_test,pred_test_rf)))\n",
    "print('Test R^2 score:',r2_score(y_test, pred_test_rf))"
   ]
  },
  {
   "cell_type": "markdown",
   "metadata": {},
   "source": [
    "Aangezien dit model het best scoort wat betreft de r2 score en de RMSE, kiezen we dit model om de voorspellingen mee te gaan doen. "
   ]
  },
  {
   "cell_type": "markdown",
   "metadata": {},
   "source": [
    "### 6.1 Probability functie"
   ]
  },
  {
   "cell_type": "markdown",
   "metadata": {},
   "source": [
    "We willen graag weten hoe zeker het model is van een voorspelling: hiervoor gebruiken we de probability functie. "
   ]
  },
  {
   "cell_type": "code",
   "execution_count": 27,
   "metadata": {},
   "outputs": [],
   "source": [
    "model = RandomForestRegressor(\n",
    "    max_features=None, n_estimators=50, max_leaf_nodes=48, oob_score=True, random_state=100,n_jobs=n_jobs\n",
    "                             ).fit(x_train, y_train)"
   ]
  },
  {
   "cell_type": "code",
   "execution_count": 28,
   "metadata": {},
   "outputs": [],
   "source": [
    "def random_forest_regressor_predict_proba(X_train, y_train, X_test, m):\n",
    "    \"\"\"Trains DecisionTreeRegressor model and predicts probabilities of each y.\n",
    "\n",
    "    Args:\n",
    "        X_train: Training features.\n",
    "        y_train: Training labels.\n",
    "        X_test: New data to predict on.\n",
    "        **kwargs: Other arguments passed to DecisionTreeRegressor.\n",
    "\n",
    "    Returns:\n",
    "        DataFrame with columns for record_id (row of X_test), y \n",
    "        (predicted value), and prob (of that y value).\n",
    "        The sum of prob equals 1 for each record_id.\n",
    "    \"\"\"\n",
    "    # Get y values corresponding to each node.\n",
    "    node_ys = pd.DataFrame({'node_id':m.apply(X_train)[:,0], 'duur': y_train})\n",
    "    # Calculate probability as 1 / number of y values per node.\n",
    "    node_ys['prob'] = 1 / node_ys.groupby(node_ys.node_id).transform('count')\n",
    "    # Aggregate per node-y, in case of multiple training records with the same y.\n",
    "    node_ys_dedup = node_ys.groupby(['node_id', 'duur']).prob.sum().to_frame()\\\n",
    "        .reset_index()\n",
    "    display(node_ys_dedup)\n",
    "#     node_ys_dedup.to_csv('nodes_prob.csv')\n",
    "    \n",
    "    dept = m.decision_path(X_test)[1][1]\n",
    "    leaf = pd.DataFrame(m.decision_path(X_test)[0].toarray()[:,:dept]).apply(\n",
    "        lambda x:x.to_numpy().nonzero()[0].max(), axis=1).to_frame(\n",
    "            name='node_id')\n",
    "    leaf['record_id'] = leaf.index\n",
    "    # Merge with y values and drop node_id.\n",
    "    return leaf.merge(node_ys_dedup, on='node_id').drop(\n",
    "        'node_id', axis=1).sort_values(['record_id', 'duur'])"
   ]
  },
  {
   "cell_type": "code",
   "execution_count": 29,
   "metadata": {},
   "outputs": [
    {
     "data": {
      "text/html": [
       "<div>\n",
       "<style scoped>\n",
       "    .dataframe tbody tr th:only-of-type {\n",
       "        vertical-align: middle;\n",
       "    }\n",
       "\n",
       "    .dataframe tbody tr th {\n",
       "        vertical-align: top;\n",
       "    }\n",
       "\n",
       "    .dataframe thead th {\n",
       "        text-align: right;\n",
       "    }\n",
       "</style>\n",
       "<table border=\"1\" class=\"dataframe\">\n",
       "  <thead>\n",
       "    <tr style=\"text-align: right;\">\n",
       "      <th></th>\n",
       "      <th>node_id</th>\n",
       "      <th>duur</th>\n",
       "      <th>prob</th>\n",
       "    </tr>\n",
       "  </thead>\n",
       "  <tbody>\n",
       "    <tr>\n",
       "      <th>0</th>\n",
       "      <td>6</td>\n",
       "      <td>6</td>\n",
       "      <td>0.007792</td>\n",
       "    </tr>\n",
       "    <tr>\n",
       "      <th>1</th>\n",
       "      <td>6</td>\n",
       "      <td>7</td>\n",
       "      <td>0.007792</td>\n",
       "    </tr>\n",
       "    <tr>\n",
       "      <th>2</th>\n",
       "      <td>6</td>\n",
       "      <td>8</td>\n",
       "      <td>0.005195</td>\n",
       "    </tr>\n",
       "    <tr>\n",
       "      <th>3</th>\n",
       "      <td>6</td>\n",
       "      <td>9</td>\n",
       "      <td>0.002597</td>\n",
       "    </tr>\n",
       "    <tr>\n",
       "      <th>4</th>\n",
       "      <td>6</td>\n",
       "      <td>10</td>\n",
       "      <td>0.007792</td>\n",
       "    </tr>\n",
       "    <tr>\n",
       "      <th>...</th>\n",
       "      <td>...</td>\n",
       "      <td>...</td>\n",
       "      <td>...</td>\n",
       "    </tr>\n",
       "    <tr>\n",
       "      <th>6662</th>\n",
       "      <td>93</td>\n",
       "      <td>348</td>\n",
       "      <td>0.003436</td>\n",
       "    </tr>\n",
       "    <tr>\n",
       "      <th>6663</th>\n",
       "      <td>93</td>\n",
       "      <td>349</td>\n",
       "      <td>0.003436</td>\n",
       "    </tr>\n",
       "    <tr>\n",
       "      <th>6664</th>\n",
       "      <td>94</td>\n",
       "      <td>63</td>\n",
       "      <td>0.333333</td>\n",
       "    </tr>\n",
       "    <tr>\n",
       "      <th>6665</th>\n",
       "      <td>94</td>\n",
       "      <td>280</td>\n",
       "      <td>0.333333</td>\n",
       "    </tr>\n",
       "    <tr>\n",
       "      <th>6666</th>\n",
       "      <td>94</td>\n",
       "      <td>353</td>\n",
       "      <td>0.333333</td>\n",
       "    </tr>\n",
       "  </tbody>\n",
       "</table>\n",
       "<p>6667 rows × 3 columns</p>\n",
       "</div>"
      ],
      "text/plain": [
       "      node_id  duur      prob\n",
       "0           6     6  0.007792\n",
       "1           6     7  0.007792\n",
       "2           6     8  0.005195\n",
       "3           6     9  0.002597\n",
       "4           6    10  0.007792\n",
       "...       ...   ...       ...\n",
       "6662       93   348  0.003436\n",
       "6663       93   349  0.003436\n",
       "6664       94    63  0.333333\n",
       "6665       94   280  0.333333\n",
       "6666       94   353  0.333333\n",
       "\n",
       "[6667 rows x 3 columns]"
      ]
     },
     "metadata": {},
     "output_type": "display_data"
    }
   ],
   "source": [
    "res = random_forest_regressor_predict_proba(x_train, y_train, x_test[:1],model)"
   ]
  },
  {
   "cell_type": "code",
   "execution_count": 30,
   "metadata": {},
   "outputs": [
    {
     "data": {
      "text/html": [
       "<div>\n",
       "<style scoped>\n",
       "    .dataframe tbody tr th:only-of-type {\n",
       "        vertical-align: middle;\n",
       "    }\n",
       "\n",
       "    .dataframe tbody tr th {\n",
       "        vertical-align: top;\n",
       "    }\n",
       "\n",
       "    .dataframe thead th {\n",
       "        text-align: right;\n",
       "    }\n",
       "</style>\n",
       "<table border=\"1\" class=\"dataframe\">\n",
       "  <thead>\n",
       "    <tr style=\"text-align: right;\">\n",
       "      <th></th>\n",
       "      <th>duur</th>\n",
       "      <th>prob</th>\n",
       "    </tr>\n",
       "  </thead>\n",
       "  <tbody>\n",
       "    <tr>\n",
       "      <th>25</th>\n",
       "      <td>30</td>\n",
       "      <td>0.022603</td>\n",
       "    </tr>\n",
       "    <tr>\n",
       "      <th>10</th>\n",
       "      <td>15</td>\n",
       "      <td>0.020653</td>\n",
       "    </tr>\n",
       "    <tr>\n",
       "      <th>5</th>\n",
       "      <td>10</td>\n",
       "      <td>0.019810</td>\n",
       "    </tr>\n",
       "    <tr>\n",
       "      <th>20</th>\n",
       "      <td>25</td>\n",
       "      <td>0.017492</td>\n",
       "    </tr>\n",
       "    <tr>\n",
       "      <th>15</th>\n",
       "      <td>20</td>\n",
       "      <td>0.017176</td>\n",
       "    </tr>\n",
       "    <tr>\n",
       "      <th>...</th>\n",
       "      <td>...</td>\n",
       "      <td>...</td>\n",
       "    </tr>\n",
       "    <tr>\n",
       "      <th>341</th>\n",
       "      <td>351</td>\n",
       "      <td>0.000053</td>\n",
       "    </tr>\n",
       "    <tr>\n",
       "      <th>297</th>\n",
       "      <td>302</td>\n",
       "      <td>0.000053</td>\n",
       "    </tr>\n",
       "    <tr>\n",
       "      <th>343</th>\n",
       "      <td>353</td>\n",
       "      <td>0.000053</td>\n",
       "    </tr>\n",
       "    <tr>\n",
       "      <th>326</th>\n",
       "      <td>334</td>\n",
       "      <td>0.000053</td>\n",
       "    </tr>\n",
       "    <tr>\n",
       "      <th>278</th>\n",
       "      <td>283</td>\n",
       "      <td>0.000053</td>\n",
       "    </tr>\n",
       "  </tbody>\n",
       "</table>\n",
       "<p>350 rows × 2 columns</p>\n",
       "</div>"
      ],
      "text/plain": [
       "     duur      prob\n",
       "25     30  0.022603\n",
       "10     15  0.020653\n",
       "5      10  0.019810\n",
       "20     25  0.017492\n",
       "15     20  0.017176\n",
       "..    ...       ...\n",
       "341   351  0.000053\n",
       "297   302  0.000053\n",
       "343   353  0.000053\n",
       "326   334  0.000053\n",
       "278   283  0.000053\n",
       "\n",
       "[350 rows x 2 columns]"
      ]
     },
     "execution_count": 30,
     "metadata": {},
     "output_type": "execute_result"
    }
   ],
   "source": [
    "res[res['record_id'] == 0].sort_values('prob',ascending=False)[['duur','prob']]"
   ]
  },
  {
   "cell_type": "code",
   "execution_count": 31,
   "metadata": {},
   "outputs": [],
   "source": [
    "# filename = 'finalized_model_lin.sav'\n",
    "# pickle.dump(dtree_final, open(filename, 'wb'))\n",
    "# filename = 'finalized_model_dectreereg.sav'\n",
    "# pickle.dump(dtree_final, open(filename, 'wb'))\n",
    "# filename = 'finalized_model_knearest.sav'\n",
    "# pickle.dump(knearestModel, open(filename, 'wb'))\n",
    "# df.to_csv('sap_storing_data_hu_project_norm.csv', columns=features)\n",
    "\n",
    "filename = 'rand_for.sav'\n",
    "pickle.dump(model_rf, open(filename, 'wb'))"
   ]
  }
 ],
 "metadata": {
  "kernelspec": {
   "display_name": "Python 3",
   "language": "python",
   "name": "python3"
  },
  "language_info": {
   "codemirror_mode": {
    "name": "ipython",
    "version": 3
   },
   "file_extension": ".py",
   "mimetype": "text/x-python",
   "name": "python",
   "nbconvert_exporter": "python",
   "pygments_lexer": "ipython3",
   "version": "3.7.4"
  }
 },
 "nbformat": 4,
 "nbformat_minor": 2
}
